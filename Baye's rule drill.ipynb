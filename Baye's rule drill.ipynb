{
 "cells": [
  {
   "cell_type": "code",
   "execution_count": null,
   "metadata": {},
   "outputs": [],
   "source": [
    "# The probablity of the test be positive is 0.005*0.98 + 0.1*0.995 = 0.1044\n",
    "# The probaliity of correctly diagnose sufferers is 0.98\n",
    "# the probablity of identify non-sufferer is 1-0.1 = 0.9\n",
    "# The probablity of misclassify is 0.02*0.005 + 0.1*0.995 = 0.0996"
   ]
  }
 ],
 "metadata": {
  "kernelspec": {
   "display_name": "Python 3",
   "language": "python",
   "name": "python3"
  },
  "language_info": {
   "codemirror_mode": {
    "name": "ipython",
    "version": 3
   },
   "file_extension": ".py",
   "mimetype": "text/x-python",
   "name": "python",
   "nbconvert_exporter": "python",
   "pygments_lexer": "ipython3",
   "version": "3.7.1"
  }
 },
 "nbformat": 4,
 "nbformat_minor": 2
}
