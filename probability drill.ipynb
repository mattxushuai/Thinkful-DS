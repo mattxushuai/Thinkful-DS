{
 "cells": [
  {
   "cell_type": "code",
   "execution_count": null,
   "metadata": {},
   "outputs": [],
   "source": [
    "# all patern probabilities are the same: 0.5**4 = 0.0625\n",
    "# The probability of not choosing a man is 1 - 21/45 = 24/45\n",
    "# The probability of Bernice in a plane crash is 10% * 0.005% = 0.0005%\n",
    "# The problem is that the users spent more time on the website have more chance of completing the survey, creating sample bias"
   ]
  }
 ],
 "metadata": {
  "kernelspec": {
   "display_name": "Python 3",
   "language": "python",
   "name": "python3"
  },
  "language_info": {
   "codemirror_mode": {
    "name": "ipython",
    "version": 3
   },
   "file_extension": ".py",
   "mimetype": "text/x-python",
   "name": "python",
   "nbconvert_exporter": "python",
   "pygments_lexer": "ipython3",
   "version": "3.7.1"
  }
 },
 "nbformat": 4,
 "nbformat_minor": 2
}
