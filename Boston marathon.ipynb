{
 "cells": [
  {
   "cell_type": "code",
   "execution_count": 1,
   "metadata": {},
   "outputs": [],
   "source": [
    "import numpy as np\n",
    "import pandas as pd\n",
    "import scipy\n",
    "import matplotlib.pyplot as plt\n",
    "import seaborn as sns\n",
    "%matplotlib inline"
   ]
  },
  {
   "cell_type": "code",
   "execution_count": 3,
   "metadata": {},
   "outputs": [
    {
     "data": {
      "text/html": [
       "<div>\n",
       "<style scoped>\n",
       "    .dataframe tbody tr th:only-of-type {\n",
       "        vertical-align: middle;\n",
       "    }\n",
       "\n",
       "    .dataframe tbody tr th {\n",
       "        vertical-align: top;\n",
       "    }\n",
       "\n",
       "    .dataframe thead th {\n",
       "        text-align: right;\n",
       "    }\n",
       "</style>\n",
       "<table border=\"1\" class=\"dataframe\">\n",
       "  <thead>\n",
       "    <tr style=\"text-align: right;\">\n",
       "      <th></th>\n",
       "      <th>25k</th>\n",
       "      <th>age</th>\n",
       "      <th>name</th>\n",
       "      <th>division</th>\n",
       "      <th>10k</th>\n",
       "      <th>gender</th>\n",
       "      <th>half</th>\n",
       "      <th>official</th>\n",
       "      <th>bib</th>\n",
       "      <th>ctz</th>\n",
       "      <th>...</th>\n",
       "      <th>overall</th>\n",
       "      <th>pace</th>\n",
       "      <th>state</th>\n",
       "      <th>30k</th>\n",
       "      <th>5k</th>\n",
       "      <th>genderdiv</th>\n",
       "      <th>20k</th>\n",
       "      <th>35k</th>\n",
       "      <th>city</th>\n",
       "      <th>40k</th>\n",
       "    </tr>\n",
       "  </thead>\n",
       "  <tbody>\n",
       "    <tr>\n",
       "      <th>0</th>\n",
       "      <td>49.87</td>\n",
       "      <td>28</td>\n",
       "      <td>Cassidy, Josh R.</td>\n",
       "      <td>9</td>\n",
       "      <td>18.18</td>\n",
       "      <td>M</td>\n",
       "      <td>40.93</td>\n",
       "      <td>90.90</td>\n",
       "      <td>W1</td>\n",
       "      <td>NaN</td>\n",
       "      <td>...</td>\n",
       "      <td>9</td>\n",
       "      <td>3.47</td>\n",
       "      <td>ON</td>\n",
       "      <td>62.07</td>\n",
       "      <td>8.90</td>\n",
       "      <td>9</td>\n",
       "      <td>38.80</td>\n",
       "      <td>74.73</td>\n",
       "      <td>Toronto</td>\n",
       "      <td>85.55</td>\n",
       "    </tr>\n",
       "    <tr>\n",
       "      <th>1</th>\n",
       "      <td>77.27</td>\n",
       "      <td>30</td>\n",
       "      <td>Korir, Wesley</td>\n",
       "      <td>5</td>\n",
       "      <td>30.90</td>\n",
       "      <td>M</td>\n",
       "      <td>64.90</td>\n",
       "      <td>132.50</td>\n",
       "      <td>1</td>\n",
       "      <td>NaN</td>\n",
       "      <td>...</td>\n",
       "      <td>5</td>\n",
       "      <td>5.07</td>\n",
       "      <td>NaN</td>\n",
       "      <td>92.97</td>\n",
       "      <td>15.90</td>\n",
       "      <td>5</td>\n",
       "      <td>61.52</td>\n",
       "      <td>108.78</td>\n",
       "      <td>Kenya</td>\n",
       "      <td>124.77</td>\n",
       "    </tr>\n",
       "    <tr>\n",
       "      <th>2</th>\n",
       "      <td>77.23</td>\n",
       "      <td>23</td>\n",
       "      <td>Desisa, Lelisa</td>\n",
       "      <td>1</td>\n",
       "      <td>30.90</td>\n",
       "      <td>M</td>\n",
       "      <td>64.92</td>\n",
       "      <td>130.37</td>\n",
       "      <td>2</td>\n",
       "      <td>NaN</td>\n",
       "      <td>...</td>\n",
       "      <td>1</td>\n",
       "      <td>4.98</td>\n",
       "      <td>NaN</td>\n",
       "      <td>92.72</td>\n",
       "      <td>15.93</td>\n",
       "      <td>1</td>\n",
       "      <td>61.53</td>\n",
       "      <td>108.68</td>\n",
       "      <td>Ambo</td>\n",
       "      <td>123.78</td>\n",
       "    </tr>\n",
       "    <tr>\n",
       "      <th>3</th>\n",
       "      <td>50.50</td>\n",
       "      <td>32</td>\n",
       "      <td>Fearnley, Kurt H.</td>\n",
       "      <td>5</td>\n",
       "      <td>18.73</td>\n",
       "      <td>M</td>\n",
       "      <td>42.00</td>\n",
       "      <td>88.43</td>\n",
       "      <td>W2</td>\n",
       "      <td>NaN</td>\n",
       "      <td>...</td>\n",
       "      <td>5</td>\n",
       "      <td>3.38</td>\n",
       "      <td>NaN</td>\n",
       "      <td>61.35</td>\n",
       "      <td>8.98</td>\n",
       "      <td>5</td>\n",
       "      <td>39.88</td>\n",
       "      <td>73.00</td>\n",
       "      <td>Hamilton</td>\n",
       "      <td>83.43</td>\n",
       "    </tr>\n",
       "    <tr>\n",
       "      <th>4</th>\n",
       "      <td>48.75</td>\n",
       "      <td>39</td>\n",
       "      <td>Hokinoue, Kota</td>\n",
       "      <td>3</td>\n",
       "      <td>18.18</td>\n",
       "      <td>M</td>\n",
       "      <td>40.57</td>\n",
       "      <td>87.22</td>\n",
       "      <td>W3</td>\n",
       "      <td>NaN</td>\n",
       "      <td>...</td>\n",
       "      <td>3</td>\n",
       "      <td>3.33</td>\n",
       "      <td>NaN</td>\n",
       "      <td>59.92</td>\n",
       "      <td>8.92</td>\n",
       "      <td>3</td>\n",
       "      <td>38.55</td>\n",
       "      <td>71.68</td>\n",
       "      <td>Iizuka</td>\n",
       "      <td>81.88</td>\n",
       "    </tr>\n",
       "  </tbody>\n",
       "</table>\n",
       "<p>5 rows × 21 columns</p>\n",
       "</div>"
      ],
      "text/plain": [
       "     25k  age               name  division    10k gender   half  official bib  \\\n",
       "0  49.87   28   Cassidy, Josh R.         9  18.18      M  40.93     90.90  W1   \n",
       "1  77.27   30      Korir, Wesley         5  30.90      M  64.90    132.50   1   \n",
       "2  77.23   23     Desisa, Lelisa         1  30.90      M  64.92    130.37   2   \n",
       "3  50.50   32  Fearnley, Kurt H.         5  18.73      M  42.00     88.43  W2   \n",
       "4  48.75   39     Hokinoue, Kota         3  18.18      M  40.57     87.22  W3   \n",
       "\n",
       "   ctz   ...   overall  pace  state    30k     5k genderdiv    20k     35k  \\\n",
       "0  NaN   ...         9  3.47     ON  62.07   8.90         9  38.80   74.73   \n",
       "1  NaN   ...         5  5.07    NaN  92.97  15.90         5  61.52  108.78   \n",
       "2  NaN   ...         1  4.98    NaN  92.72  15.93         1  61.53  108.68   \n",
       "3  NaN   ...         5  3.38    NaN  61.35   8.98         5  39.88   73.00   \n",
       "4  NaN   ...         3  3.33    NaN  59.92   8.92         3  38.55   71.68   \n",
       "\n",
       "       city     40k  \n",
       "0   Toronto   85.55  \n",
       "1     Kenya  124.77  \n",
       "2      Ambo  123.78  \n",
       "3  Hamilton   83.43  \n",
       "4    Iizuka   81.88  \n",
       "\n",
       "[5 rows x 21 columns]"
      ]
     },
     "execution_count": 3,
     "metadata": {},
     "output_type": "execute_result"
    }
   ],
   "source": [
    "df=pd.read_csv('https://raw.githubusercontent.com/llimllib/bostonmarathon/master/results/2013/results.csv')\n",
    "df.head()"
   ]
  },
  {
   "cell_type": "code",
   "execution_count": 4,
   "metadata": {},
   "outputs": [
    {
     "name": "stdout",
     "output_type": "stream",
     "text": [
      "<class 'pandas.core.frame.DataFrame'>\n",
      "RangeIndex: 16164 entries, 0 to 16163\n",
      "Data columns (total 21 columns):\n",
      "25k          16164 non-null object\n",
      "age          16164 non-null int64\n",
      "name         16164 non-null object\n",
      "division     16164 non-null int64\n",
      "10k          16164 non-null object\n",
      "gender       16164 non-null object\n",
      "half         16164 non-null object\n",
      "official     16164 non-null float64\n",
      "bib          16164 non-null object\n",
      "ctz          757 non-null object\n",
      "country      16164 non-null object\n",
      "overall      16164 non-null int64\n",
      "pace         16164 non-null float64\n",
      "state        14701 non-null object\n",
      "30k          16164 non-null object\n",
      "5k           16164 non-null object\n",
      "genderdiv    16164 non-null int64\n",
      "20k          16164 non-null object\n",
      "35k          16164 non-null object\n",
      "city         16163 non-null object\n",
      "40k          16164 non-null object\n",
      "dtypes: float64(2), int64(4), object(15)\n",
      "memory usage: 2.6+ MB\n"
     ]
    }
   ],
   "source": [
    "df.info()"
   ]
  },
  {
   "cell_type": "code",
   "execution_count": 6,
   "metadata": {},
   "outputs": [],
   "source": [
    "df = df.drop(['ctz', 'state', 'name'], axis=1)"
   ]
  },
  {
   "cell_type": "code",
   "execution_count": 14,
   "metadata": {},
   "outputs": [
    {
     "data": {
      "text/html": [
       "<div>\n",
       "<style scoped>\n",
       "    .dataframe tbody tr th:only-of-type {\n",
       "        vertical-align: middle;\n",
       "    }\n",
       "\n",
       "    .dataframe tbody tr th {\n",
       "        vertical-align: top;\n",
       "    }\n",
       "\n",
       "    .dataframe thead th {\n",
       "        text-align: right;\n",
       "    }\n",
       "</style>\n",
       "<table border=\"1\" class=\"dataframe\">\n",
       "  <thead>\n",
       "    <tr style=\"text-align: right;\">\n",
       "      <th></th>\n",
       "      <th>25k</th>\n",
       "      <th>age</th>\n",
       "      <th>division</th>\n",
       "      <th>10k</th>\n",
       "      <th>gender</th>\n",
       "      <th>half</th>\n",
       "      <th>official</th>\n",
       "      <th>bib</th>\n",
       "      <th>country</th>\n",
       "      <th>overall</th>\n",
       "      <th>pace</th>\n",
       "      <th>30k</th>\n",
       "      <th>5k</th>\n",
       "      <th>genderdiv</th>\n",
       "      <th>20k</th>\n",
       "      <th>35k</th>\n",
       "      <th>city</th>\n",
       "      <th>40k</th>\n",
       "    </tr>\n",
       "  </thead>\n",
       "  <tbody>\n",
       "    <tr>\n",
       "      <th>0</th>\n",
       "      <td>49.87</td>\n",
       "      <td>28</td>\n",
       "      <td>9</td>\n",
       "      <td>18.18</td>\n",
       "      <td>M</td>\n",
       "      <td>40.93</td>\n",
       "      <td>90.90</td>\n",
       "      <td>W1</td>\n",
       "      <td>CAN</td>\n",
       "      <td>9</td>\n",
       "      <td>3.47</td>\n",
       "      <td>62.07</td>\n",
       "      <td>8.90</td>\n",
       "      <td>9</td>\n",
       "      <td>38.80</td>\n",
       "      <td>74.73</td>\n",
       "      <td>Toronto</td>\n",
       "      <td>85.55</td>\n",
       "    </tr>\n",
       "    <tr>\n",
       "      <th>1</th>\n",
       "      <td>77.27</td>\n",
       "      <td>30</td>\n",
       "      <td>5</td>\n",
       "      <td>30.90</td>\n",
       "      <td>M</td>\n",
       "      <td>64.90</td>\n",
       "      <td>132.50</td>\n",
       "      <td>1</td>\n",
       "      <td>KEN</td>\n",
       "      <td>5</td>\n",
       "      <td>5.07</td>\n",
       "      <td>92.97</td>\n",
       "      <td>15.90</td>\n",
       "      <td>5</td>\n",
       "      <td>61.52</td>\n",
       "      <td>108.78</td>\n",
       "      <td>Kenya</td>\n",
       "      <td>124.77</td>\n",
       "    </tr>\n",
       "    <tr>\n",
       "      <th>2</th>\n",
       "      <td>77.23</td>\n",
       "      <td>23</td>\n",
       "      <td>1</td>\n",
       "      <td>30.90</td>\n",
       "      <td>M</td>\n",
       "      <td>64.92</td>\n",
       "      <td>130.37</td>\n",
       "      <td>2</td>\n",
       "      <td>ETH</td>\n",
       "      <td>1</td>\n",
       "      <td>4.98</td>\n",
       "      <td>92.72</td>\n",
       "      <td>15.93</td>\n",
       "      <td>1</td>\n",
       "      <td>61.53</td>\n",
       "      <td>108.68</td>\n",
       "      <td>Ambo</td>\n",
       "      <td>123.78</td>\n",
       "    </tr>\n",
       "    <tr>\n",
       "      <th>3</th>\n",
       "      <td>50.50</td>\n",
       "      <td>32</td>\n",
       "      <td>5</td>\n",
       "      <td>18.73</td>\n",
       "      <td>M</td>\n",
       "      <td>42.00</td>\n",
       "      <td>88.43</td>\n",
       "      <td>W2</td>\n",
       "      <td>AUS</td>\n",
       "      <td>5</td>\n",
       "      <td>3.38</td>\n",
       "      <td>61.35</td>\n",
       "      <td>8.98</td>\n",
       "      <td>5</td>\n",
       "      <td>39.88</td>\n",
       "      <td>73.00</td>\n",
       "      <td>Hamilton</td>\n",
       "      <td>83.43</td>\n",
       "    </tr>\n",
       "    <tr>\n",
       "      <th>4</th>\n",
       "      <td>48.75</td>\n",
       "      <td>39</td>\n",
       "      <td>3</td>\n",
       "      <td>18.18</td>\n",
       "      <td>M</td>\n",
       "      <td>40.57</td>\n",
       "      <td>87.22</td>\n",
       "      <td>W3</td>\n",
       "      <td>JPN</td>\n",
       "      <td>3</td>\n",
       "      <td>3.33</td>\n",
       "      <td>59.92</td>\n",
       "      <td>8.92</td>\n",
       "      <td>3</td>\n",
       "      <td>38.55</td>\n",
       "      <td>71.68</td>\n",
       "      <td>Iizuka</td>\n",
       "      <td>81.88</td>\n",
       "    </tr>\n",
       "  </tbody>\n",
       "</table>\n",
       "</div>"
      ],
      "text/plain": [
       "     25k  age  division    10k gender   half  official bib country  overall  \\\n",
       "0  49.87   28         9  18.18      M  40.93     90.90  W1     CAN        9   \n",
       "1  77.27   30         5  30.90      M  64.90    132.50   1     KEN        5   \n",
       "2  77.23   23         1  30.90      M  64.92    130.37   2     ETH        1   \n",
       "3  50.50   32         5  18.73      M  42.00     88.43  W2     AUS        5   \n",
       "4  48.75   39         3  18.18      M  40.57     87.22  W3     JPN        3   \n",
       "\n",
       "   pace    30k     5k  genderdiv    20k     35k      city     40k  \n",
       "0  3.47  62.07   8.90          9  38.80   74.73   Toronto   85.55  \n",
       "1  5.07  92.97  15.90          5  61.52  108.78     Kenya  124.77  \n",
       "2  4.98  92.72  15.93          1  61.53  108.68      Ambo  123.78  \n",
       "3  3.38  61.35   8.98          5  39.88   73.00  Hamilton   83.43  \n",
       "4  3.33  59.92   8.92          3  38.55   71.68    Iizuka   81.88  "
      ]
     },
     "execution_count": 14,
     "metadata": {},
     "output_type": "execute_result"
    }
   ],
   "source": [
    "df.head()"
   ]
  },
  {
   "cell_type": "code",
   "execution_count": 7,
   "metadata": {},
   "outputs": [
    {
     "name": "stdout",
     "output_type": "stream",
     "text": [
      "<class 'pandas.core.frame.DataFrame'>\n",
      "RangeIndex: 16164 entries, 0 to 16163\n",
      "Data columns (total 18 columns):\n",
      "25k          16164 non-null object\n",
      "age          16164 non-null int64\n",
      "division     16164 non-null int64\n",
      "10k          16164 non-null object\n",
      "gender       16164 non-null object\n",
      "half         16164 non-null object\n",
      "official     16164 non-null float64\n",
      "bib          16164 non-null object\n",
      "country      16164 non-null object\n",
      "overall      16164 non-null int64\n",
      "pace         16164 non-null float64\n",
      "30k          16164 non-null object\n",
      "5k           16164 non-null object\n",
      "genderdiv    16164 non-null int64\n",
      "20k          16164 non-null object\n",
      "35k          16164 non-null object\n",
      "city         16163 non-null object\n",
      "40k          16164 non-null object\n",
      "dtypes: float64(2), int64(4), object(12)\n",
      "memory usage: 2.2+ MB\n"
     ]
    }
   ],
   "source": [
    "df.info()"
   ]
  },
  {
   "cell_type": "code",
   "execution_count": 8,
   "metadata": {},
   "outputs": [],
   "source": [
    "def get_float(item):\n",
    "    if item != '-':\n",
    "        return float(item) \n",
    "    else:\n",
    "        return np.NaN"
   ]
  },
  {
   "cell_type": "code",
   "execution_count": 9,
   "metadata": {},
   "outputs": [],
   "source": [
    "def getGender(gender_str):\n",
    "    if gender_str == 'M':\n",
    "        return 1\n",
    "    else:\n",
    "        return 0"
   ]
  },
  {
   "cell_type": "code",
   "execution_count": 15,
   "metadata": {},
   "outputs": [],
   "source": [
    "df['25k'] = df['25k'].apply(get_float)\n",
    "df['10k'] = df['10k'].apply(get_float)\n",
    "df['half'] = df['half'].apply(get_float)\n",
    "df['official'] = df['official'].apply(get_float)\n",
    "df['30k'] = df['30k'].apply(get_float)\n",
    "df['5k'] = df['5k'].apply(get_float)\n",
    "df['35k'] = df['35k'].apply(get_float)\n",
    "df['20k'] = df['20k'].apply(get_float)\n",
    "df['40k'] = df['40k'].apply(get_float)\n",
    "df['gender'] = df['gender'].apply(getGender)"
   ]
  },
  {
   "cell_type": "code",
   "execution_count": 17,
   "metadata": {},
   "outputs": [],
   "source": [
    "df = df.drop(['country', 'bib'], axis=1)"
   ]
  },
  {
   "cell_type": "code",
   "execution_count": 19,
   "metadata": {},
   "outputs": [],
   "source": [
    "df = df.drop(['city'], axis=1)"
   ]
  },
  {
   "cell_type": "code",
   "execution_count": 20,
   "metadata": {},
   "outputs": [
    {
     "data": {
      "text/html": [
       "<div>\n",
       "<style scoped>\n",
       "    .dataframe tbody tr th:only-of-type {\n",
       "        vertical-align: middle;\n",
       "    }\n",
       "\n",
       "    .dataframe tbody tr th {\n",
       "        vertical-align: top;\n",
       "    }\n",
       "\n",
       "    .dataframe thead th {\n",
       "        text-align: right;\n",
       "    }\n",
       "</style>\n",
       "<table border=\"1\" class=\"dataframe\">\n",
       "  <thead>\n",
       "    <tr style=\"text-align: right;\">\n",
       "      <th></th>\n",
       "      <th>25k</th>\n",
       "      <th>age</th>\n",
       "      <th>division</th>\n",
       "      <th>10k</th>\n",
       "      <th>gender</th>\n",
       "      <th>half</th>\n",
       "      <th>official</th>\n",
       "      <th>overall</th>\n",
       "      <th>pace</th>\n",
       "      <th>30k</th>\n",
       "      <th>5k</th>\n",
       "      <th>genderdiv</th>\n",
       "      <th>20k</th>\n",
       "      <th>35k</th>\n",
       "      <th>40k</th>\n",
       "    </tr>\n",
       "  </thead>\n",
       "  <tbody>\n",
       "    <tr>\n",
       "      <th>0</th>\n",
       "      <td>49.87</td>\n",
       "      <td>28</td>\n",
       "      <td>9</td>\n",
       "      <td>18.18</td>\n",
       "      <td>1</td>\n",
       "      <td>40.93</td>\n",
       "      <td>90.90</td>\n",
       "      <td>9</td>\n",
       "      <td>3.47</td>\n",
       "      <td>62.07</td>\n",
       "      <td>8.90</td>\n",
       "      <td>9</td>\n",
       "      <td>38.80</td>\n",
       "      <td>74.73</td>\n",
       "      <td>85.55</td>\n",
       "    </tr>\n",
       "    <tr>\n",
       "      <th>1</th>\n",
       "      <td>77.27</td>\n",
       "      <td>30</td>\n",
       "      <td>5</td>\n",
       "      <td>30.90</td>\n",
       "      <td>1</td>\n",
       "      <td>64.90</td>\n",
       "      <td>132.50</td>\n",
       "      <td>5</td>\n",
       "      <td>5.07</td>\n",
       "      <td>92.97</td>\n",
       "      <td>15.90</td>\n",
       "      <td>5</td>\n",
       "      <td>61.52</td>\n",
       "      <td>108.78</td>\n",
       "      <td>124.77</td>\n",
       "    </tr>\n",
       "    <tr>\n",
       "      <th>2</th>\n",
       "      <td>77.23</td>\n",
       "      <td>23</td>\n",
       "      <td>1</td>\n",
       "      <td>30.90</td>\n",
       "      <td>1</td>\n",
       "      <td>64.92</td>\n",
       "      <td>130.37</td>\n",
       "      <td>1</td>\n",
       "      <td>4.98</td>\n",
       "      <td>92.72</td>\n",
       "      <td>15.93</td>\n",
       "      <td>1</td>\n",
       "      <td>61.53</td>\n",
       "      <td>108.68</td>\n",
       "      <td>123.78</td>\n",
       "    </tr>\n",
       "    <tr>\n",
       "      <th>3</th>\n",
       "      <td>50.50</td>\n",
       "      <td>32</td>\n",
       "      <td>5</td>\n",
       "      <td>18.73</td>\n",
       "      <td>1</td>\n",
       "      <td>42.00</td>\n",
       "      <td>88.43</td>\n",
       "      <td>5</td>\n",
       "      <td>3.38</td>\n",
       "      <td>61.35</td>\n",
       "      <td>8.98</td>\n",
       "      <td>5</td>\n",
       "      <td>39.88</td>\n",
       "      <td>73.00</td>\n",
       "      <td>83.43</td>\n",
       "    </tr>\n",
       "    <tr>\n",
       "      <th>4</th>\n",
       "      <td>48.75</td>\n",
       "      <td>39</td>\n",
       "      <td>3</td>\n",
       "      <td>18.18</td>\n",
       "      <td>1</td>\n",
       "      <td>40.57</td>\n",
       "      <td>87.22</td>\n",
       "      <td>3</td>\n",
       "      <td>3.33</td>\n",
       "      <td>59.92</td>\n",
       "      <td>8.92</td>\n",
       "      <td>3</td>\n",
       "      <td>38.55</td>\n",
       "      <td>71.68</td>\n",
       "      <td>81.88</td>\n",
       "    </tr>\n",
       "  </tbody>\n",
       "</table>\n",
       "</div>"
      ],
      "text/plain": [
       "     25k  age  division    10k  gender   half  official  overall  pace    30k  \\\n",
       "0  49.87   28         9  18.18       1  40.93     90.90        9  3.47  62.07   \n",
       "1  77.27   30         5  30.90       1  64.90    132.50        5  5.07  92.97   \n",
       "2  77.23   23         1  30.90       1  64.92    130.37        1  4.98  92.72   \n",
       "3  50.50   32         5  18.73       1  42.00     88.43        5  3.38  61.35   \n",
       "4  48.75   39         3  18.18       1  40.57     87.22        3  3.33  59.92   \n",
       "\n",
       "      5k  genderdiv    20k     35k     40k  \n",
       "0   8.90          9  38.80   74.73   85.55  \n",
       "1  15.90          5  61.52  108.78  124.77  \n",
       "2  15.93          1  61.53  108.68  123.78  \n",
       "3   8.98          5  39.88   73.00   83.43  \n",
       "4   8.92          3  38.55   71.68   81.88  "
      ]
     },
     "execution_count": 20,
     "metadata": {},
     "output_type": "execute_result"
    }
   ],
   "source": [
    "df.head()"
   ]
  },
  {
   "cell_type": "code",
   "execution_count": 21,
   "metadata": {},
   "outputs": [
    {
     "name": "stdout",
     "output_type": "stream",
     "text": [
      "<class 'pandas.core.frame.DataFrame'>\n",
      "RangeIndex: 16164 entries, 0 to 16163\n",
      "Data columns (total 15 columns):\n",
      "25k          16141 non-null float64\n",
      "age          16164 non-null int64\n",
      "division     16164 non-null int64\n",
      "10k          16138 non-null float64\n",
      "gender       16164 non-null int64\n",
      "half         16148 non-null float64\n",
      "official     16164 non-null float64\n",
      "overall      16164 non-null int64\n",
      "pace         16164 non-null float64\n",
      "30k          16147 non-null float64\n",
      "5k           16098 non-null float64\n",
      "genderdiv    16164 non-null int64\n",
      "20k          16147 non-null float64\n",
      "35k          16143 non-null float64\n",
      "40k          16147 non-null float64\n",
      "dtypes: float64(10), int64(5)\n",
      "memory usage: 1.8 MB\n"
     ]
    }
   ],
   "source": [
    "df.info()"
   ]
  },
  {
   "cell_type": "markdown",
   "metadata": {},
   "source": [
    "## K-Means clustering"
   ]
  },
  {
   "cell_type": "code",
   "execution_count": 22,
   "metadata": {},
   "outputs": [],
   "source": [
    "from sklearn.cluster import KMeans\n",
    "from sklearn.preprocessing import normalize"
   ]
  },
  {
   "cell_type": "code",
   "execution_count": 25,
   "metadata": {},
   "outputs": [],
   "source": [
    "df = df.dropna()"
   ]
  },
  {
   "cell_type": "code",
   "execution_count": 27,
   "metadata": {},
   "outputs": [],
   "source": [
    "df_norm = normalize(df)"
   ]
  },
  {
   "cell_type": "code",
   "execution_count": 29,
   "metadata": {},
   "outputs": [],
   "source": [
    "from sklearn.decomposition import PCA\n",
    "df_pca = PCA(2).fit_transform(df_norm)"
   ]
  },
  {
   "cell_type": "markdown",
   "metadata": {},
   "source": [
    "### 2 clusters"
   ]
  },
  {
   "cell_type": "code",
   "execution_count": 30,
   "metadata": {},
   "outputs": [],
   "source": [
    "y_pred = KMeans(n_clusters=2, random_state=101).fit_predict(df_pca)"
   ]
  },
  {
   "cell_type": "code",
   "execution_count": 31,
   "metadata": {},
   "outputs": [
    {
     "data": {
      "image/png": "[encoded data removed]",
      "text/plain": [
       "<Figure size 432x288 with 1 Axes>"
      ]
     },
     "metadata": {
      "needs_background": "light"
     },
     "output_type": "display_data"
    }
   ],
   "source": [
    "plt.scatter(df_pca[:, 0], df_pca[:, 1], c=y_pred)\n",
    "plt.show()"
   ]
  },
  {
   "cell_type": "code",
   "execution_count": 36,
   "metadata": {},
   "outputs": [],
   "source": [
    "from sklearn import metrics\n",
    "from sklearn.metrics import pairwise_distances"
   ]
  },
  {
   "cell_type": "markdown",
   "metadata": {},
   "source": [
    "### 3 clusters"
   ]
  },
  {
   "cell_type": "code",
   "execution_count": 32,
   "metadata": {},
   "outputs": [],
   "source": [
    "y_pred3 = KMeans(n_clusters=3, random_state=101).fit_predict(df_pca)"
   ]
  },
  {
   "cell_type": "code",
   "execution_count": 33,
   "metadata": {},
   "outputs": [
    {
     "data": {
      "image/png": "[encoded data removed]",
      "text/plain": [
       "<Figure size 432x288 with 1 Axes>"
      ]
     },
     "metadata": {
      "needs_background": "light"
     },
     "output_type": "display_data"
    }
   ],
   "source": [
    "plt.scatter(df_pca[:, 0], df_pca[:, 1], c=y_pred3)\n",
    "plt.show()"
   ]
  },
  {
   "cell_type": "markdown",
   "metadata": {},
   "source": [
    "### 4 clusters"
   ]
  },
  {
   "cell_type": "code",
   "execution_count": 34,
   "metadata": {},
   "outputs": [],
   "source": [
    "y_pred4 = KMeans(n_clusters=4, random_state=101).fit_predict(df_pca)"
   ]
  },
  {
   "cell_type": "code",
   "execution_count": 35,
   "metadata": {},
   "outputs": [
    {
     "data": {
      "image/png": "[encoded data removed]",
      "text/plain": [
       "<Figure size 432x288 with 1 Axes>"
      ]
     },
     "metadata": {
      "needs_background": "light"
     },
     "output_type": "display_data"
    }
   ],
   "source": [
    "plt.scatter(df_pca[:, 0], df_pca[:, 1], c=y_pred4)\n",
    "plt.show()"
   ]
  },
  {
   "cell_type": "markdown",
   "metadata": {},
   "source": [
    "## Mini batch K-Means"
   ]
  },
  {
   "cell_type": "code",
   "execution_count": 38,
   "metadata": {},
   "outputs": [],
   "source": [
    "from sklearn.cluster import MiniBatchKMeans\n",
    "minibatchkmeans = MiniBatchKMeans(\n",
    "    init='random',\n",
    "    n_clusters=2,\n",
    "    batch_size=200)\n",
    "minibatchkmeans.fit(df_pca)\n",
    "\n",
    "# Add the new predicted cluster memberships to the data frame.\n",
    "pred_mini = minibatchkmeans.predict(df_pca)"
   ]
  },
  {
   "cell_type": "code",
   "execution_count": 39,
   "metadata": {
    "scrolled": true
   },
   "outputs": [
    {
     "data": {
      "image/png": "[encoded data removed]",
      "text/plain": [
       "<Figure size 432x288 with 1 Axes>"
      ]
     },
     "metadata": {
      "needs_background": "light"
     },
     "output_type": "display_data"
    }
   ],
   "source": [
    "plt.scatter(df_pca[:, 0], df_pca[:, 1], c=pred_mini)\n",
    "plt.show()"
   ]
  },
  {
   "cell_type": "code",
   "execution_count": 40,
   "metadata": {},
   "outputs": [],
   "source": [
    "minibatchkmeans = MiniBatchKMeans(\n",
    "    init='random',\n",
    "    n_clusters=3,\n",
    "    batch_size=200)\n",
    "minibatchkmeans.fit(df_pca)\n",
    "\n",
    "# Add the new predicted cluster memberships to the data frame.\n",
    "pred_mini = minibatchkmeans.predict(df_pca)"
   ]
  },
  {
   "cell_type": "code",
   "execution_count": 41,
   "metadata": {},
   "outputs": [
    {
     "data": {
      "image/png": "[encoded data removed]",
      "text/plain": [
       "<Figure size 432x288 with 1 Axes>"
      ]
     },
     "metadata": {
      "needs_background": "light"
     },
     "output_type": "display_data"
    }
   ],
   "source": [
    "plt.scatter(df_pca[:, 0], df_pca[:, 1], c=pred_mini)\n",
    "plt.show()"
   ]
  },
  {
   "cell_type": "code",
   "execution_count": 43,
   "metadata": {},
   "outputs": [
    {
     "data": {
      "image/png": "[encoded data removed]",
      "text/plain": [
       "<Figure size 432x288 with 1 Axes>"
      ]
     },
     "metadata": {
      "needs_background": "light"
     },
     "output_type": "display_data"
    }
   ],
   "source": [
    "plt.scatter(df_pca[:, 0], df_pca[:, 1], c=pred_mini)\n",
    "plt.show()"
   ]
  },
  {
   "cell_type": "markdown",
   "metadata": {},
   "source": [
    "## Mean-shift"
   ]
  },
  {
   "cell_type": "code",
   "execution_count": 47,
   "metadata": {},
   "outputs": [
    {
     "name": "stdout",
     "output_type": "stream",
     "text": [
      "Number of estimated clusters: 2\n"
     ]
    },
    {
     "data": {
      "text/plain": [
       "0.3"
      ]
     },
     "execution_count": 47,
     "metadata": {},
     "output_type": "execute_result"
    }
   ],
   "source": [
    "from sklearn.cluster import MeanShift, estimate_bandwidth\n",
    "\n",
    "# Here we set the bandwidth. This function automatically derives a bandwidth\n",
    "# number based on an inspection of the distances among points in the data.\n",
    "#ndwidth = estimate_bandwidth(df_pca, quantile=0.2, n_samples=500)\n",
    "bandwidth = 0.3\n",
    "\n",
    "# Declare and fit the model.\n",
    "ms = MeanShift(bandwidth=bandwidth, bin_seeding=True)\n",
    "ms.fit(df_pca)\n",
    "\n",
    "# Extract cluster assignments for each data point.\n",
    "labels = ms.labels_\n",
    "\n",
    "# Coordinates of the cluster centers.\n",
    "cluster_centers = ms.cluster_centers_\n",
    "\n",
    "# Count our clusters.\n",
    "n_clusters_ = len(np.unique(labels))\n",
    "\n",
    "print(\"Number of estimated clusters: {}\".format(n_clusters_))\n",
    "bandwidth"
   ]
  },
  {
   "cell_type": "code",
   "execution_count": 48,
   "metadata": {},
   "outputs": [
    {
     "data": {
      "image/png": "[encoded data removed]",
      "text/plain": [
       "<Figure size 432x288 with 1 Axes>"
      ]
     },
     "metadata": {
      "needs_background": "light"
     },
     "output_type": "display_data"
    }
   ],
   "source": [
    "plt.scatter(df_pca[:, 0], df_pca[:, 1], c=labels)\n",
    "plt.show()"
   ]
  },
  {
   "cell_type": "markdown",
   "metadata": {},
   "source": [
    "## Spectral clustering"
   ]
  },
  {
   "cell_type": "code",
   "execution_count": 49,
   "metadata": {},
   "outputs": [
    {
     "data": {
      "image/png": "[encoded data removed]",
      "text/plain": [
       "<Figure size 432x288 with 1 Axes>"
      ]
     },
     "metadata": {
      "needs_background": "light"
     },
     "output_type": "display_data"
    }
   ],
   "source": [
    "from sklearn.cluster import SpectralClustering\n",
    "\n",
    "# We know we're looking for three clusters.\n",
    "n_clusters=2\n",
    "\n",
    "# Declare and fit the model.\n",
    "sc = SpectralClustering(n_clusters=n_clusters)\n",
    "sc.fit(df_pca)\n",
    "\n",
    "#Predicted clusters.\n",
    "predict=sc.fit_predict(df_pca)\n",
    "\n",
    "#Graph results.\n",
    "plt.scatter(df_pca[:, 0], df_pca[:, 1], c=predict)\n",
    "plt.show()"
   ]
  },
  {
   "cell_type": "code",
   "execution_count": 50,
   "metadata": {},
   "outputs": [
    {
     "data": {
      "image/png": "[encoded data removed]",
      "text/plain": [
       "<Figure size 432x288 with 1 Axes>"
      ]
     },
     "metadata": {
      "needs_background": "light"
     },
     "output_type": "display_data"
    }
   ],
   "source": [
    "n_clusters=3\n",
    "\n",
    "# Declare and fit the model.\n",
    "sc = SpectralClustering(n_clusters=n_clusters)\n",
    "sc.fit(df_pca)\n",
    "\n",
    "#Predicted clusters.\n",
    "predict=sc.fit_predict(df_pca)\n",
    "\n",
    "#Graph results.\n",
    "plt.scatter(df_pca[:, 0], df_pca[:, 1], c=predict)\n",
    "plt.show()"
   ]
  },
  {
   "cell_type": "code",
   "execution_count": null,
   "metadata": {},
   "outputs": [],
   "source": []
  }
 ],
 "metadata": {
  "kernelspec": {
   "display_name": "Python 3",
   "language": "python",
   "name": "python3"
  },
  "language_info": {
   "codemirror_mode": {
    "name": "ipython",
    "version": 3
   },
   "file_extension": ".py",
   "mimetype": "text/x-python",
   "name": "python",
   "nbconvert_exporter": "python",
   "pygments_lexer": "ipython3",
   "version": "3.7.1"
  }
 },
 "nbformat": 4,
 "nbformat_minor": 2
}
