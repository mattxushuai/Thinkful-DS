{
 "cells": [
  {
   "cell_type": "code",
   "execution_count": 1,
   "metadata": {},
   "outputs": [],
   "source": [
    "import warnings\n",
    "warnings.simplefilter(action='ignore', category=FutureWarning)\n",
    "import pandas as pd\n",
    "from pandas.plotting import scatter_matrix\n",
    "import seaborn as sns\n",
    "import matplotlib.pyplot as plt\n",
    "%matplotlib inline\n",
    "import numpy as np\n",
    "\n",
    "from dateutil.parser import parse\n",
    "from datetime import datetime\n",
    "from scipy.stats import norm\n",
    "\n",
    "# import all what you need for machine learning\n",
    "import sklearn\n",
    "from sklearn.model_selection import cross_val_predict\n",
    "from sklearn.model_selection import cross_val_score\n",
    "from sklearn.model_selection import cross_validate\n",
    "from sklearn.model_selection import train_test_split\n",
    "from sklearn.linear_model import LinearRegression\n",
    "from sklearn.ensemble import RandomForestRegressor\n",
    "from sklearn.tree import DecisionTreeRegressor\n",
    "from sklearn.model_selection import RandomizedSearchCV\n",
    "from sklearn.model_selection import GridSearchCV\n",
    "from sklearn.linear_model import LinearRegression\n",
    "from sklearn.preprocessing import RobustScaler"
   ]
  },
  {
   "cell_type": "code",
   "execution_count": 2,
   "metadata": {},
   "outputs": [
    {
     "data": {
      "text/html": [
       "<div>\n",
       "<style scoped>\n",
       "    .dataframe tbody tr th:only-of-type {\n",
       "        vertical-align: middle;\n",
       "    }\n",
       "\n",
       "    .dataframe tbody tr th {\n",
       "        vertical-align: top;\n",
       "    }\n",
       "\n",
       "    .dataframe thead th {\n",
       "        text-align: right;\n",
       "    }\n",
       "</style>\n",
       "<table border=\"1\" class=\"dataframe\">\n",
       "  <thead>\n",
       "    <tr style=\"text-align: right;\">\n",
       "      <th></th>\n",
       "      <th>Suburb</th>\n",
       "      <th>Address</th>\n",
       "      <th>Rooms</th>\n",
       "      <th>Type</th>\n",
       "      <th>Price</th>\n",
       "      <th>Method</th>\n",
       "      <th>SellerG</th>\n",
       "      <th>Date</th>\n",
       "      <th>Distance</th>\n",
       "      <th>Postcode</th>\n",
       "      <th>...</th>\n",
       "      <th>Bathroom</th>\n",
       "      <th>Car</th>\n",
       "      <th>Landsize</th>\n",
       "      <th>BuildingArea</th>\n",
       "      <th>YearBuilt</th>\n",
       "      <th>CouncilArea</th>\n",
       "      <th>Lattitude</th>\n",
       "      <th>Longtitude</th>\n",
       "      <th>Regionname</th>\n",
       "      <th>Propertycount</th>\n",
       "    </tr>\n",
       "  </thead>\n",
       "  <tbody>\n",
       "    <tr>\n",
       "      <th>0</th>\n",
       "      <td>Abbotsford</td>\n",
       "      <td>68 Studley St</td>\n",
       "      <td>2</td>\n",
       "      <td>h</td>\n",
       "      <td>NaN</td>\n",
       "      <td>SS</td>\n",
       "      <td>Jellis</td>\n",
       "      <td>3/09/2016</td>\n",
       "      <td>2.5</td>\n",
       "      <td>3067.0</td>\n",
       "      <td>...</td>\n",
       "      <td>1.0</td>\n",
       "      <td>1.0</td>\n",
       "      <td>126.0</td>\n",
       "      <td>NaN</td>\n",
       "      <td>NaN</td>\n",
       "      <td>Yarra City Council</td>\n",
       "      <td>-37.8014</td>\n",
       "      <td>144.9958</td>\n",
       "      <td>Northern Metropolitan</td>\n",
       "      <td>4019.0</td>\n",
       "    </tr>\n",
       "    <tr>\n",
       "      <th>1</th>\n",
       "      <td>Abbotsford</td>\n",
       "      <td>85 Turner St</td>\n",
       "      <td>2</td>\n",
       "      <td>h</td>\n",
       "      <td>1480000.0</td>\n",
       "      <td>S</td>\n",
       "      <td>Biggin</td>\n",
       "      <td>3/12/2016</td>\n",
       "      <td>2.5</td>\n",
       "      <td>3067.0</td>\n",
       "      <td>...</td>\n",
       "      <td>1.0</td>\n",
       "      <td>1.0</td>\n",
       "      <td>202.0</td>\n",
       "      <td>NaN</td>\n",
       "      <td>NaN</td>\n",
       "      <td>Yarra City Council</td>\n",
       "      <td>-37.7996</td>\n",
       "      <td>144.9984</td>\n",
       "      <td>Northern Metropolitan</td>\n",
       "      <td>4019.0</td>\n",
       "    </tr>\n",
       "    <tr>\n",
       "      <th>2</th>\n",
       "      <td>Abbotsford</td>\n",
       "      <td>25 Bloomburg St</td>\n",
       "      <td>2</td>\n",
       "      <td>h</td>\n",
       "      <td>1035000.0</td>\n",
       "      <td>S</td>\n",
       "      <td>Biggin</td>\n",
       "      <td>4/02/2016</td>\n",
       "      <td>2.5</td>\n",
       "      <td>3067.0</td>\n",
       "      <td>...</td>\n",
       "      <td>1.0</td>\n",
       "      <td>0.0</td>\n",
       "      <td>156.0</td>\n",
       "      <td>79.0</td>\n",
       "      <td>1900.0</td>\n",
       "      <td>Yarra City Council</td>\n",
       "      <td>-37.8079</td>\n",
       "      <td>144.9934</td>\n",
       "      <td>Northern Metropolitan</td>\n",
       "      <td>4019.0</td>\n",
       "    </tr>\n",
       "    <tr>\n",
       "      <th>3</th>\n",
       "      <td>Abbotsford</td>\n",
       "      <td>18/659 Victoria St</td>\n",
       "      <td>3</td>\n",
       "      <td>u</td>\n",
       "      <td>NaN</td>\n",
       "      <td>VB</td>\n",
       "      <td>Rounds</td>\n",
       "      <td>4/02/2016</td>\n",
       "      <td>2.5</td>\n",
       "      <td>3067.0</td>\n",
       "      <td>...</td>\n",
       "      <td>2.0</td>\n",
       "      <td>1.0</td>\n",
       "      <td>0.0</td>\n",
       "      <td>NaN</td>\n",
       "      <td>NaN</td>\n",
       "      <td>Yarra City Council</td>\n",
       "      <td>-37.8114</td>\n",
       "      <td>145.0116</td>\n",
       "      <td>Northern Metropolitan</td>\n",
       "      <td>4019.0</td>\n",
       "    </tr>\n",
       "    <tr>\n",
       "      <th>4</th>\n",
       "      <td>Abbotsford</td>\n",
       "      <td>5 Charles St</td>\n",
       "      <td>3</td>\n",
       "      <td>h</td>\n",
       "      <td>1465000.0</td>\n",
       "      <td>SP</td>\n",
       "      <td>Biggin</td>\n",
       "      <td>4/03/2017</td>\n",
       "      <td>2.5</td>\n",
       "      <td>3067.0</td>\n",
       "      <td>...</td>\n",
       "      <td>2.0</td>\n",
       "      <td>0.0</td>\n",
       "      <td>134.0</td>\n",
       "      <td>150.0</td>\n",
       "      <td>1900.0</td>\n",
       "      <td>Yarra City Council</td>\n",
       "      <td>-37.8093</td>\n",
       "      <td>144.9944</td>\n",
       "      <td>Northern Metropolitan</td>\n",
       "      <td>4019.0</td>\n",
       "    </tr>\n",
       "  </tbody>\n",
       "</table>\n",
       "<p>5 rows × 21 columns</p>\n",
       "</div>"
      ],
      "text/plain": [
       "       Suburb             Address  Rooms Type      Price Method SellerG  \\\n",
       "0  Abbotsford       68 Studley St      2    h        NaN     SS  Jellis   \n",
       "1  Abbotsford        85 Turner St      2    h  1480000.0      S  Biggin   \n",
       "2  Abbotsford     25 Bloomburg St      2    h  1035000.0      S  Biggin   \n",
       "3  Abbotsford  18/659 Victoria St      3    u        NaN     VB  Rounds   \n",
       "4  Abbotsford        5 Charles St      3    h  1465000.0     SP  Biggin   \n",
       "\n",
       "        Date  Distance  Postcode      ...       Bathroom  Car  Landsize  \\\n",
       "0  3/09/2016       2.5    3067.0      ...            1.0  1.0     126.0   \n",
       "1  3/12/2016       2.5    3067.0      ...            1.0  1.0     202.0   \n",
       "2  4/02/2016       2.5    3067.0      ...            1.0  0.0     156.0   \n",
       "3  4/02/2016       2.5    3067.0      ...            2.0  1.0       0.0   \n",
       "4  4/03/2017       2.5    3067.0      ...            2.0  0.0     134.0   \n",
       "\n",
       "   BuildingArea  YearBuilt         CouncilArea Lattitude  Longtitude  \\\n",
       "0           NaN        NaN  Yarra City Council  -37.8014    144.9958   \n",
       "1           NaN        NaN  Yarra City Council  -37.7996    144.9984   \n",
       "2          79.0     1900.0  Yarra City Council  -37.8079    144.9934   \n",
       "3           NaN        NaN  Yarra City Council  -37.8114    145.0116   \n",
       "4         150.0     1900.0  Yarra City Council  -37.8093    144.9944   \n",
       "\n",
       "              Regionname Propertycount  \n",
       "0  Northern Metropolitan        4019.0  \n",
       "1  Northern Metropolitan        4019.0  \n",
       "2  Northern Metropolitan        4019.0  \n",
       "3  Northern Metropolitan        4019.0  \n",
       "4  Northern Metropolitan        4019.0  \n",
       "\n",
       "[5 rows x 21 columns]"
      ]
     },
     "execution_count": 2,
     "metadata": {},
     "output_type": "execute_result"
    }
   ],
   "source": [
    "housing = pd.read_csv('Melbourne_housing_FULL.csv')\n",
    "housing.head()"
   ]
  },
  {
   "cell_type": "code",
   "execution_count": 3,
   "metadata": {},
   "outputs": [
    {
     "name": "stdout",
     "output_type": "stream",
     "text": [
      "<class 'pandas.core.frame.DataFrame'>\n",
      "RangeIndex: 34857 entries, 0 to 34856\n",
      "Data columns (total 21 columns):\n",
      "Suburb           34857 non-null object\n",
      "Address          34857 non-null object\n",
      "Rooms            34857 non-null int64\n",
      "Type             34857 non-null object\n",
      "Price            27247 non-null float64\n",
      "Method           34857 non-null object\n",
      "SellerG          34857 non-null object\n",
      "Date             34857 non-null object\n",
      "Distance         34856 non-null float64\n",
      "Postcode         34856 non-null float64\n",
      "Bedroom2         26640 non-null float64\n",
      "Bathroom         26631 non-null float64\n",
      "Car              26129 non-null float64\n",
      "Landsize         23047 non-null float64\n",
      "BuildingArea     13742 non-null float64\n",
      "YearBuilt        15551 non-null float64\n",
      "CouncilArea      34854 non-null object\n",
      "Lattitude        26881 non-null float64\n",
      "Longtitude       26881 non-null float64\n",
      "Regionname       34854 non-null object\n",
      "Propertycount    34854 non-null float64\n",
      "dtypes: float64(12), int64(1), object(8)\n",
      "memory usage: 5.6+ MB\n"
     ]
    }
   ],
   "source": [
    "housing.info()"
   ]
  },
  {
   "cell_type": "code",
   "execution_count": 4,
   "metadata": {},
   "outputs": [],
   "source": [
    "#change Postcode\n",
    "housing['Postcode']= housing['Postcode'].astype('object')\n",
    "#change Propertycount to category\n",
    "housing['Propertycount']= housing['Propertycount'].astype('object')"
   ]
  },
  {
   "cell_type": "code",
   "execution_count": 5,
   "metadata": {},
   "outputs": [],
   "source": [
    "housing= housing.drop(['Bedroom2'], axis=1)"
   ]
  },
  {
   "cell_type": "code",
   "execution_count": 6,
   "metadata": {},
   "outputs": [
    {
     "data": {
      "text/html": [
       "<div>\n",
       "<style scoped>\n",
       "    .dataframe tbody tr th:only-of-type {\n",
       "        vertical-align: middle;\n",
       "    }\n",
       "\n",
       "    .dataframe tbody tr th {\n",
       "        vertical-align: top;\n",
       "    }\n",
       "\n",
       "    .dataframe thead th {\n",
       "        text-align: right;\n",
       "    }\n",
       "</style>\n",
       "<table border=\"1\" class=\"dataframe\">\n",
       "  <thead>\n",
       "    <tr style=\"text-align: right;\">\n",
       "      <th></th>\n",
       "      <th>Rooms</th>\n",
       "      <th>Price</th>\n",
       "      <th>Distance</th>\n",
       "      <th>Bathroom</th>\n",
       "      <th>Car</th>\n",
       "      <th>Landsize</th>\n",
       "      <th>BuildingArea</th>\n",
       "      <th>YearBuilt</th>\n",
       "      <th>Lattitude</th>\n",
       "      <th>Longtitude</th>\n",
       "    </tr>\n",
       "  </thead>\n",
       "  <tbody>\n",
       "    <tr>\n",
       "      <th>count</th>\n",
       "      <td>34857.000000</td>\n",
       "      <td>2.724700e+04</td>\n",
       "      <td>34856.000000</td>\n",
       "      <td>26631.000000</td>\n",
       "      <td>26129.000000</td>\n",
       "      <td>23047.000000</td>\n",
       "      <td>13742.00000</td>\n",
       "      <td>15551.000000</td>\n",
       "      <td>26881.000000</td>\n",
       "      <td>26881.000000</td>\n",
       "    </tr>\n",
       "    <tr>\n",
       "      <th>mean</th>\n",
       "      <td>3.031012</td>\n",
       "      <td>1.050173e+06</td>\n",
       "      <td>11.184929</td>\n",
       "      <td>1.624798</td>\n",
       "      <td>1.728845</td>\n",
       "      <td>593.598993</td>\n",
       "      <td>160.25640</td>\n",
       "      <td>1965.289885</td>\n",
       "      <td>-37.810634</td>\n",
       "      <td>145.001851</td>\n",
       "    </tr>\n",
       "    <tr>\n",
       "      <th>std</th>\n",
       "      <td>0.969933</td>\n",
       "      <td>6.414671e+05</td>\n",
       "      <td>6.788892</td>\n",
       "      <td>0.724212</td>\n",
       "      <td>1.010771</td>\n",
       "      <td>3398.841946</td>\n",
       "      <td>401.26706</td>\n",
       "      <td>37.328178</td>\n",
       "      <td>0.090279</td>\n",
       "      <td>0.120169</td>\n",
       "    </tr>\n",
       "    <tr>\n",
       "      <th>min</th>\n",
       "      <td>1.000000</td>\n",
       "      <td>8.500000e+04</td>\n",
       "      <td>0.000000</td>\n",
       "      <td>0.000000</td>\n",
       "      <td>0.000000</td>\n",
       "      <td>0.000000</td>\n",
       "      <td>0.00000</td>\n",
       "      <td>1196.000000</td>\n",
       "      <td>-38.190430</td>\n",
       "      <td>144.423790</td>\n",
       "    </tr>\n",
       "    <tr>\n",
       "      <th>25%</th>\n",
       "      <td>2.000000</td>\n",
       "      <td>6.350000e+05</td>\n",
       "      <td>6.400000</td>\n",
       "      <td>1.000000</td>\n",
       "      <td>1.000000</td>\n",
       "      <td>224.000000</td>\n",
       "      <td>102.00000</td>\n",
       "      <td>1940.000000</td>\n",
       "      <td>-37.862950</td>\n",
       "      <td>144.933500</td>\n",
       "    </tr>\n",
       "    <tr>\n",
       "      <th>50%</th>\n",
       "      <td>3.000000</td>\n",
       "      <td>8.700000e+05</td>\n",
       "      <td>10.300000</td>\n",
       "      <td>2.000000</td>\n",
       "      <td>2.000000</td>\n",
       "      <td>521.000000</td>\n",
       "      <td>136.00000</td>\n",
       "      <td>1970.000000</td>\n",
       "      <td>-37.807600</td>\n",
       "      <td>145.007800</td>\n",
       "    </tr>\n",
       "    <tr>\n",
       "      <th>75%</th>\n",
       "      <td>4.000000</td>\n",
       "      <td>1.295000e+06</td>\n",
       "      <td>14.000000</td>\n",
       "      <td>2.000000</td>\n",
       "      <td>2.000000</td>\n",
       "      <td>670.000000</td>\n",
       "      <td>188.00000</td>\n",
       "      <td>2000.000000</td>\n",
       "      <td>-37.754100</td>\n",
       "      <td>145.071900</td>\n",
       "    </tr>\n",
       "    <tr>\n",
       "      <th>max</th>\n",
       "      <td>16.000000</td>\n",
       "      <td>1.120000e+07</td>\n",
       "      <td>48.100000</td>\n",
       "      <td>12.000000</td>\n",
       "      <td>26.000000</td>\n",
       "      <td>433014.000000</td>\n",
       "      <td>44515.00000</td>\n",
       "      <td>2106.000000</td>\n",
       "      <td>-37.390200</td>\n",
       "      <td>145.526350</td>\n",
       "    </tr>\n",
       "  </tbody>\n",
       "</table>\n",
       "</div>"
      ],
      "text/plain": [
       "              Rooms         Price      Distance      Bathroom           Car  \\\n",
       "count  34857.000000  2.724700e+04  34856.000000  26631.000000  26129.000000   \n",
       "mean       3.031012  1.050173e+06     11.184929      1.624798      1.728845   \n",
       "std        0.969933  6.414671e+05      6.788892      0.724212      1.010771   \n",
       "min        1.000000  8.500000e+04      0.000000      0.000000      0.000000   \n",
       "25%        2.000000  6.350000e+05      6.400000      1.000000      1.000000   \n",
       "50%        3.000000  8.700000e+05     10.300000      2.000000      2.000000   \n",
       "75%        4.000000  1.295000e+06     14.000000      2.000000      2.000000   \n",
       "max       16.000000  1.120000e+07     48.100000     12.000000     26.000000   \n",
       "\n",
       "            Landsize  BuildingArea     YearBuilt     Lattitude    Longtitude  \n",
       "count   23047.000000   13742.00000  15551.000000  26881.000000  26881.000000  \n",
       "mean      593.598993     160.25640   1965.289885    -37.810634    145.001851  \n",
       "std      3398.841946     401.26706     37.328178      0.090279      0.120169  \n",
       "min         0.000000       0.00000   1196.000000    -38.190430    144.423790  \n",
       "25%       224.000000     102.00000   1940.000000    -37.862950    144.933500  \n",
       "50%       521.000000     136.00000   1970.000000    -37.807600    145.007800  \n",
       "75%       670.000000     188.00000   2000.000000    -37.754100    145.071900  \n",
       "max    433014.000000   44515.00000   2106.000000    -37.390200    145.526350  "
      ]
     },
     "execution_count": 6,
     "metadata": {},
     "output_type": "execute_result"
    }
   ],
   "source": [
    "#check basic statistics\n",
    "housing.describe()"
   ]
  },
  {
   "cell_type": "code",
   "execution_count": 7,
   "metadata": {},
   "outputs": [
    {
     "data": {
      "text/plain": [
       "0"
      ]
     },
     "execution_count": 7,
     "metadata": {},
     "output_type": "execute_result"
    }
   ],
   "source": [
    "#use the unary operator ~ to delete the rows\n",
    "housing = housing[~(housing['BuildingArea'] < 1)]  \n",
    "#check the deletion\n",
    "housing['BuildingArea'].loc[housing.BuildingArea<1].count()"
   ]
  },
  {
   "cell_type": "code",
   "execution_count": 8,
   "metadata": {},
   "outputs": [],
   "source": [
    "housing = housing.reset_index()"
   ]
  },
  {
   "cell_type": "code",
   "execution_count": 9,
   "metadata": {},
   "outputs": [
    {
     "data": {
      "text/plain": [
       "<matplotlib.axes._subplots.AxesSubplot at 0x2393d2cc6a0>"
      ]
     },
     "execution_count": 9,
     "metadata": {},
     "output_type": "execute_result"
    },
    {
     "data": {
      "image/png": "[encoded data removed]",
      "text/plain": [
       "<Figure size 432x288 with 1 Axes>"
      ]
     },
     "metadata": {
      "needs_background": "light"
     },
     "output_type": "display_data"
    }
   ],
   "source": [
    "sns.boxplot(data = housing, y = 'BuildingArea')"
   ]
  },
  {
   "cell_type": "code",
   "execution_count": 10,
   "metadata": {},
   "outputs": [
    {
     "data": {
      "text/html": [
       "<div>\n",
       "<style scoped>\n",
       "    .dataframe tbody tr th:only-of-type {\n",
       "        vertical-align: middle;\n",
       "    }\n",
       "\n",
       "    .dataframe tbody tr th {\n",
       "        vertical-align: top;\n",
       "    }\n",
       "\n",
       "    .dataframe thead th {\n",
       "        text-align: right;\n",
       "    }\n",
       "</style>\n",
       "<table border=\"1\" class=\"dataframe\">\n",
       "  <thead>\n",
       "    <tr style=\"text-align: right;\">\n",
       "      <th></th>\n",
       "      <th>index</th>\n",
       "      <th>Suburb</th>\n",
       "      <th>Address</th>\n",
       "      <th>Rooms</th>\n",
       "      <th>Type</th>\n",
       "      <th>Price</th>\n",
       "      <th>Method</th>\n",
       "      <th>SellerG</th>\n",
       "      <th>Date</th>\n",
       "      <th>Distance</th>\n",
       "      <th>...</th>\n",
       "      <th>Bathroom</th>\n",
       "      <th>Car</th>\n",
       "      <th>Landsize</th>\n",
       "      <th>BuildingArea</th>\n",
       "      <th>YearBuilt</th>\n",
       "      <th>CouncilArea</th>\n",
       "      <th>Lattitude</th>\n",
       "      <th>Longtitude</th>\n",
       "      <th>Regionname</th>\n",
       "      <th>Propertycount</th>\n",
       "    </tr>\n",
       "  </thead>\n",
       "  <tbody>\n",
       "    <tr>\n",
       "      <th>22614</th>\n",
       "      <td>22632</td>\n",
       "      <td>New Gisborne</td>\n",
       "      <td>71 Hamilton Rd</td>\n",
       "      <td>5</td>\n",
       "      <td>h</td>\n",
       "      <td>1355000.0</td>\n",
       "      <td>S</td>\n",
       "      <td>Raine</td>\n",
       "      <td>23/09/2017</td>\n",
       "      <td>48.1</td>\n",
       "      <td>...</td>\n",
       "      <td>3.0</td>\n",
       "      <td>5.0</td>\n",
       "      <td>44500.0</td>\n",
       "      <td>44515.0</td>\n",
       "      <td>NaN</td>\n",
       "      <td>Macedon Ranges Shire Council</td>\n",
       "      <td>-37.45392</td>\n",
       "      <td>144.58864</td>\n",
       "      <td>Northern Victoria</td>\n",
       "      <td>849</td>\n",
       "    </tr>\n",
       "  </tbody>\n",
       "</table>\n",
       "<p>1 rows × 21 columns</p>\n",
       "</div>"
      ],
      "text/plain": [
       "       index        Suburb         Address  Rooms Type      Price Method  \\\n",
       "22614  22632  New Gisborne  71 Hamilton Rd      5    h  1355000.0      S   \n",
       "\n",
       "      SellerG        Date  Distance      ...      Bathroom  Car  Landsize  \\\n",
       "22614   Raine  23/09/2017      48.1      ...           3.0  5.0   44500.0   \n",
       "\n",
       "       BuildingArea  YearBuilt                   CouncilArea Lattitude  \\\n",
       "22614       44515.0        NaN  Macedon Ranges Shire Council -37.45392   \n",
       "\n",
       "       Longtitude         Regionname Propertycount  \n",
       "22614   144.58864  Northern Victoria           849  \n",
       "\n",
       "[1 rows x 21 columns]"
      ]
     },
     "execution_count": 10,
     "metadata": {},
     "output_type": "execute_result"
    }
   ],
   "source": [
    "housing.loc[housing.BuildingArea>40000]"
   ]
  },
  {
   "cell_type": "code",
   "execution_count": 11,
   "metadata": {},
   "outputs": [],
   "source": [
    "#replace outlier building area\n",
    "housing['BuildingArea'].replace(44515.0, 445, inplace=True)"
   ]
  },
  {
   "cell_type": "code",
   "execution_count": 12,
   "metadata": {},
   "outputs": [
    {
     "data": {
      "text/plain": [
       "index                0\n",
       "Suburb               0\n",
       "Address              0\n",
       "Rooms                0\n",
       "Type                 0\n",
       "Price             7594\n",
       "Method               0\n",
       "SellerG              0\n",
       "Date                 0\n",
       "Distance             1\n",
       "Postcode             1\n",
       "Bathroom          8226\n",
       "Car               8726\n",
       "Landsize         11790\n",
       "BuildingArea     21115\n",
       "YearBuilt        19304\n",
       "CouncilArea          3\n",
       "Lattitude         7976\n",
       "Longtitude        7976\n",
       "Regionname           3\n",
       "Propertycount        3\n",
       "dtype: int64"
      ]
     },
     "execution_count": 12,
     "metadata": {},
     "output_type": "execute_result"
    }
   ],
   "source": [
    "# check missing data\n",
    "housing.isnull().sum()"
   ]
  },
  {
   "cell_type": "code",
   "execution_count": 14,
   "metadata": {},
   "outputs": [
    {
     "data": {
      "text/plain": [
       "index               0\n",
       "Suburb              0\n",
       "Address             0\n",
       "Rooms               0\n",
       "Type                0\n",
       "Price               0\n",
       "Method              0\n",
       "SellerG             0\n",
       "Date                0\n",
       "Distance            0\n",
       "Postcode            1\n",
       "Bathroom         8226\n",
       "Car              8726\n",
       "Landsize            0\n",
       "BuildingArea        0\n",
       "YearBuilt           0\n",
       "CouncilArea         3\n",
       "Lattitude           0\n",
       "Longtitude          0\n",
       "Regionname          3\n",
       "Propertycount       3\n",
       "dtype: int64"
      ]
     },
     "execution_count": 14,
     "metadata": {},
     "output_type": "execute_result"
    }
   ],
   "source": [
    "housing['Price']= housing['Price'].fillna(housing['Price'].median())\n",
    "housing['Landsize']= housing['Landsize'].fillna(housing['Landsize'].median())\n",
    "#Similarly, fill the only missing value of  all the other numeric values\n",
    "housing['Distance'] = housing['Distance'].fillna(housing['Distance'].median())\n",
    "housing['BuildingArea']= housing['BuildingArea'].fillna(housing['BuildingArea'].median())\n",
    "housing['Lattitude']= housing['Lattitude'].fillna(housing['Lattitude'].median())\n",
    "housing['Longtitude']= housing['Longtitude'].fillna(housing['Longtitude'].median())\n",
    "housing['YearBuilt']= housing['YearBuilt'].fillna(housing['YearBuilt'].median())\n",
    "housing.isnull().sum()"
   ]
  },
  {
   "cell_type": "code",
   "execution_count": 15,
   "metadata": {},
   "outputs": [
    {
     "data": {
      "text/plain": [
       "index            0\n",
       "Suburb           0\n",
       "Address          0\n",
       "Rooms            0\n",
       "Type             0\n",
       "Price            0\n",
       "Method           0\n",
       "SellerG          0\n",
       "Date             0\n",
       "Distance         0\n",
       "Postcode         0\n",
       "Bathroom         0\n",
       "Car              0\n",
       "Landsize         0\n",
       "BuildingArea     0\n",
       "YearBuilt        0\n",
       "CouncilArea      0\n",
       "Lattitude        0\n",
       "Longtitude       0\n",
       "Regionname       0\n",
       "Propertycount    0\n",
       "dtype: int64"
      ]
     },
     "execution_count": 15,
     "metadata": {},
     "output_type": "execute_result"
    }
   ],
   "source": [
    "housing['Bathroom']= housing['Bathroom'].fillna(housing['Bathroom'].mode()[0])\n",
    "housing['Car']= housing['Car'].fillna(housing['Car'].mode()[0])\n",
    "housing['CouncilArea']= housing['CouncilArea'].fillna(housing['CouncilArea'].mode()[0])\n",
    "housing['Regionname']= housing['Regionname'].fillna(housing['Regionname'].mode()[0])\n",
    "housing['Propertycount']= housing['Propertycount'].fillna(housing['Propertycount'].mode()[0])\n",
    "housing['Postcode']= housing['Postcode'].fillna(housing['Postcode'].mode()[0])\n",
    "housing.isnull().sum()"
   ]
  },
  {
   "cell_type": "code",
   "execution_count": 16,
   "metadata": {},
   "outputs": [],
   "source": [
    "housing['Bathroom'] = pd.to_numeric(housing['Bathroom']).round(0).astype(int)\n",
    "housing['Car'] = pd.to_numeric(housing['Car']).round(0).astype(int)"
   ]
  },
  {
   "cell_type": "markdown",
   "metadata": {},
   "source": [
    "## Feature engineering"
   ]
  },
  {
   "cell_type": "code",
   "execution_count": 17,
   "metadata": {},
   "outputs": [],
   "source": [
    "housing['houseAge'] = 2018-housing['YearBuilt']"
   ]
  },
  {
   "cell_type": "code",
   "execution_count": 18,
   "metadata": {},
   "outputs": [],
   "source": [
    "#create the new column data restructuring the original Date column with pd.to_datetime\n",
    "housing['data'] = pd.to_datetime(housing['Date'])"
   ]
  },
  {
   "cell_type": "code",
   "execution_count": 19,
   "metadata": {},
   "outputs": [],
   "source": [
    "# calculate day of year\n",
    "housing['doy'] = housing['data'].dt.dayofyear\n",
    "# Create year\n",
    "housing['Year'] = housing['data'].dt.year\n",
    "\n",
    "#to divide by season it's better to use the day of the year instead of the months\n",
    "spring = range(80, 172)\n",
    "summer = range(172, 264)\n",
    "fall = range(264, 355)\n",
    "# winter = everything else\n",
    "\n",
    "daje = []\n",
    "for i in housing['doy']:\n",
    "    if i in spring:\n",
    "        season = 'spring'\n",
    "    elif i in summer:\n",
    "        season = 'summer'\n",
    "    elif i in fall:\n",
    "        season = 'fall'\n",
    "    else:\n",
    "        season = 'winter'\n",
    "    daje.append(season)   \n",
    "\n",
    "#add the resulting column to the dataframe (after transforming it as a Series)\n",
    "housing['season']= pd.Series(daje)"
   ]
  },
  {
   "cell_type": "markdown",
   "metadata": {},
   "source": [
    "## Machine learning"
   ]
  },
  {
   "cell_type": "code",
   "execution_count": 21,
   "metadata": {},
   "outputs": [],
   "source": [
    "train_set, test_set = train_test_split(housing, test_size=0.3, random_state=42)\n",
    "housing = train_set.copy()"
   ]
  },
  {
   "cell_type": "code",
   "execution_count": 22,
   "metadata": {},
   "outputs": [
    {
     "name": "stdout",
     "output_type": "stream",
     "text": [
      "<class 'pandas.core.frame.DataFrame'>\n",
      "Int64Index: 24346 entries, 25999 to 15795\n",
      "Data columns (total 26 columns):\n",
      "index            24346 non-null int64\n",
      "Suburb           24346 non-null object\n",
      "Address          24346 non-null object\n",
      "Rooms            24346 non-null int64\n",
      "Type             24346 non-null object\n",
      "Price            24346 non-null float64\n",
      "Method           24346 non-null object\n",
      "SellerG          24346 non-null object\n",
      "Date             24346 non-null object\n",
      "Distance         24346 non-null float64\n",
      "Postcode         24346 non-null float64\n",
      "Bathroom         24346 non-null int32\n",
      "Car              24346 non-null int32\n",
      "Landsize         24346 non-null float64\n",
      "BuildingArea     24346 non-null float64\n",
      "YearBuilt        24346 non-null float64\n",
      "CouncilArea      24346 non-null object\n",
      "Lattitude        24346 non-null float64\n",
      "Longtitude       24346 non-null float64\n",
      "Regionname       24346 non-null object\n",
      "Propertycount    24346 non-null float64\n",
      "houseAge         24346 non-null float64\n",
      "data             24346 non-null datetime64[ns]\n",
      "doy              24346 non-null int64\n",
      "Year             24346 non-null int64\n",
      "season           24346 non-null object\n",
      "dtypes: datetime64[ns](1), float64(10), int32(2), int64(4), object(9)\n",
      "memory usage: 4.8+ MB\n"
     ]
    }
   ],
   "source": [
    "housing.info()"
   ]
  },
  {
   "cell_type": "code",
   "execution_count": 23,
   "metadata": {},
   "outputs": [],
   "source": [
    "#dummy variable\n",
    "hD= pd.get_dummies(housing, columns= ['Type', 'Regionname', 'season'])"
   ]
  },
  {
   "cell_type": "code",
   "execution_count": 25,
   "metadata": {},
   "outputs": [
    {
     "name": "stdout",
     "output_type": "stream",
     "text": [
      "<class 'pandas.core.frame.DataFrame'>\n",
      "Int64Index: 24346 entries, 25999 to 15795\n",
      "Data columns (total 28 columns):\n",
      "index                                    24346 non-null int64\n",
      "Rooms                                    24346 non-null int64\n",
      "Price                                    24346 non-null float64\n",
      "Distance                                 24346 non-null float64\n",
      "Bathroom                                 24346 non-null int32\n",
      "Car                                      24346 non-null int32\n",
      "Landsize                                 24346 non-null float64\n",
      "BuildingArea                             24346 non-null float64\n",
      "Lattitude                                24346 non-null float64\n",
      "Longtitude                               24346 non-null float64\n",
      "Propertycount                            24346 non-null float64\n",
      "houseAge                                 24346 non-null float64\n",
      "Year                                     24346 non-null int64\n",
      "Type_h                                   24346 non-null uint8\n",
      "Type_t                                   24346 non-null uint8\n",
      "Type_u                                   24346 non-null uint8\n",
      "Regionname_Eastern Metropolitan          24346 non-null uint8\n",
      "Regionname_Eastern Victoria              24346 non-null uint8\n",
      "Regionname_Northern Metropolitan         24346 non-null uint8\n",
      "Regionname_Northern Victoria             24346 non-null uint8\n",
      "Regionname_South-Eastern Metropolitan    24346 non-null uint8\n",
      "Regionname_Southern Metropolitan         24346 non-null uint8\n",
      "Regionname_Western Metropolitan          24346 non-null uint8\n",
      "Regionname_Western Victoria              24346 non-null uint8\n",
      "season_fall                              24346 non-null uint8\n",
      "season_spring                            24346 non-null uint8\n",
      "season_summer                            24346 non-null uint8\n",
      "season_winter                            24346 non-null uint8\n",
      "dtypes: float64(8), int32(2), int64(3), uint8(15)\n",
      "memory usage: 2.8 MB\n"
     ]
    }
   ],
   "source": [
    "#drop useless variables\n",
    "hD= hD.drop(['Suburb', 'Address', 'Method', 'SellerG', 'Date', 'Postcode', 'CouncilArea',\n",
    "            'YearBuilt', 'data', 'doy'], axis=1)\n",
    "#check variables\n",
    "hD.info()"
   ]
  },
  {
   "cell_type": "code",
   "execution_count": 26,
   "metadata": {},
   "outputs": [],
   "source": [
    "#create x and y variables\n",
    "X = hD.drop(\"Price\", axis=1)\n",
    "Y = hD[\"Price\"].copy()\n",
    "#transform to array size\n",
    "#feature scaling\n",
    "scaler = RobustScaler()\n",
    "hD= scaler.fit_transform(hD.astype(np.float64))"
   ]
  },
  {
   "cell_type": "code",
   "execution_count": 27,
   "metadata": {},
   "outputs": [],
   "source": [
    "from sklearn.model_selection import train_test_split\n",
    "x_train, x_test, y_train, y_test = train_test_split(X,Y, test_size = .20, random_state= 42)"
   ]
  },
  {
   "cell_type": "code",
   "execution_count": 28,
   "metadata": {},
   "outputs": [
    {
     "data": {
      "text/plain": [
       "LinearRegression(copy_X=True, fit_intercept=True, n_jobs=-1, normalize=False)"
      ]
     },
     "execution_count": 28,
     "metadata": {},
     "output_type": "execute_result"
    }
   ],
   "source": [
    "#fit decision tree\n",
    "tree = DecisionTreeRegressor()\n",
    "tree.fit(x_train, y_train)\n",
    "#fit random forest\n",
    "forest = RandomForestRegressor(n_jobs=-1)\n",
    "forest.fit(x_train, y_train)\n",
    "#fit regression\n",
    "lin_reg = LinearRegression(n_jobs=-1)\n",
    "lin_reg.fit(x_train, y_train)"
   ]
  },
  {
   "cell_type": "code",
   "execution_count": 29,
   "metadata": {},
   "outputs": [
    {
     "name": "stdout",
     "output_type": "stream",
     "text": [
      "RMSE of lin_reg = 448589.37\n",
      "RMSE of random forest = 182252.36\n",
      "RMSE of decision tree = 0.00\n"
     ]
    }
   ],
   "source": [
    "models= [('lin_reg', lin_reg), ('random forest', forest), ('decision tree', tree)]\n",
    "from sklearn.metrics import mean_squared_error\n",
    "for i, model in models:    \n",
    "    predictions = model.predict(x_train)\n",
    "    MSE = mean_squared_error(y_train, predictions)\n",
    "    RMSE = np.sqrt(MSE)\n",
    "    msg = \"%s = %.2f\" % (i, round(RMSE, 2))\n",
    "    print('RMSE of', msg)"
   ]
  },
  {
   "cell_type": "code",
   "execution_count": 30,
   "metadata": {},
   "outputs": [
    {
     "name": "stdout",
     "output_type": "stream",
     "text": [
      "Accuracy of lin_reg= 70.95 %\n",
      "Accuracy of random forest= 90.12 %\n",
      "Accuracy of decision tree= 100.00 %\n"
     ]
    }
   ],
   "source": [
    "for i, model in models:\n",
    "    # Make predictions on train data\n",
    "    predictions = model.predict(x_train)\n",
    "    # Performance metrics\n",
    "    errors = abs(predictions - y_train)\n",
    "    # Calculate mean absolute percentage error (MAPE)\n",
    "    mape = np.mean(100 * (errors / y_train))\n",
    "    # Calculate and display accuracy\n",
    "    accuracy = 100 - mape    \n",
    "    #print result\n",
    "    msg = \"%s= %.2f\"% (i, round(accuracy, 2))\n",
    "    print('Accuracy of', msg,'%')"
   ]
  },
  {
   "cell_type": "markdown",
   "metadata": {},
   "source": [
    "## Model comparison"
   ]
  },
  {
   "cell_type": "code",
   "execution_count": 31,
   "metadata": {},
   "outputs": [],
   "source": [
    "models= [('lin_reg', lin_reg), ('forest', forest), ('dt', tree)]\n",
    "scoring = ['neg_mean_squared_error', 'neg_mean_absolute_error', 'r2']\n",
    "\n",
    "#for each model I want to test three different scoring metrics. Therefore, results[0] will be lin_reg x MSE, \n",
    "# results[1] lin_reg x MSE and so on until results [8], where we stored dt x r2\n",
    "\n",
    "results= []\n",
    "metric= []\n",
    "for name, model in models:\n",
    "    for i in scoring:\n",
    "        scores = cross_validate(model, x_train, y_train, scoring=i, cv=10, return_train_score=True)\n",
    "        results.append(scores)"
   ]
  },
  {
   "cell_type": "code",
   "execution_count": 32,
   "metadata": {},
   "outputs": [
    {
     "data": {
      "text/plain": [
       "{'fit_time': array([0.28224945, 0.26030183, 0.25431585, 0.26030278, 0.25731325,\n",
       "        0.25529003, 0.24733806, 0.24733543, 0.24631643, 0.25833559]),\n",
       " 'score_time': array([0.00196719, 0.0019908 , 0.00199556, 0.00199223, 0.00202346,\n",
       "        0.00199437, 0.00302148, 0.00299191, 0.00199461, 0.00296855]),\n",
       " 'test_score': array([-0.08725114,  0.05643757, -0.03226395, -0.00984529, -0.00365275,\n",
       "         0.08077574,  0.13017936, -0.19670683,  0.04432017,  0.06987362]),\n",
       " 'train_score': array([1., 1., 1., 1., 1., 1., 1., 1., 1., 1.])}"
      ]
     },
     "execution_count": 32,
     "metadata": {},
     "output_type": "execute_result"
    }
   ],
   "source": [
    "results[8]"
   ]
  },
  {
   "cell_type": "code",
   "execution_count": 33,
   "metadata": {},
   "outputs": [],
   "source": [
    "#THIS IS FOR Linear regression\n",
    "#if you change signa and square the Mean Square Error you get the RMSE, which is the most common metric to accuracy\n",
    "LR_RMSE_mean = np.sqrt(-results[0]['test_score'].mean())\n",
    "LR_RMSE_std= results[0]['test_score'].std()\n",
    "# note that also here I changed the sign, as the result is originally a negative number for ease of computation\n",
    "LR_MAE_mean = -results[1]['test_score'].mean()\n",
    "LR_MAE_std= results[1]['test_score'].std()\n",
    "LR_r2_mean = results[2]['test_score'].mean()\n",
    "LR_r2_std = results[2]['test_score'].std()\n",
    "\n",
    "#THIS IS FOR RF\n",
    "RF_RMSE_mean = np.sqrt(-results[3]['test_score'].mean())\n",
    "RF_RMSE_std= results[3]['test_score'].std()\n",
    "RF_MAE_mean = -results[4]['test_score'].mean()\n",
    "RF_MAE_std= results[4]['test_score'].std()\n",
    "RF_r2_mean = results[5]['test_score'].mean()\n",
    "RF_r2_std = results[5]['test_score'].std()\n",
    "\n",
    "#THIS IS FOR DT\n",
    "DT_RMSE_mean = np.sqrt(-results[6]['test_score'].mean())\n",
    "DT_RMSE_std= results[6]['test_score'].std()\n",
    "DT_MAE_mean = -results[7]['test_score'].mean()\n",
    "DT_MAE_std= results[7]['test_score'].std()\n",
    "DT_r2_mean = results[8]['test_score'].mean()\n",
    "DT_r2_std = results[8]['test_score'].std()"
   ]
  },
  {
   "cell_type": "code",
   "execution_count": 34,
   "metadata": {},
   "outputs": [
    {
     "data": {
      "text/html": [
       "<div>\n",
       "<style scoped>\n",
       "    .dataframe tbody tr th:only-of-type {\n",
       "        vertical-align: middle;\n",
       "    }\n",
       "\n",
       "    .dataframe tbody tr th {\n",
       "        vertical-align: top;\n",
       "    }\n",
       "\n",
       "    .dataframe thead th {\n",
       "        text-align: right;\n",
       "    }\n",
       "</style>\n",
       "<table border=\"1\" class=\"dataframe\">\n",
       "  <thead>\n",
       "    <tr style=\"text-align: right;\">\n",
       "      <th></th>\n",
       "      <th>Model</th>\n",
       "      <th>RMSE_mean</th>\n",
       "      <th>RMSE_std</th>\n",
       "      <th>MAE_mean</th>\n",
       "      <th>MAE_std</th>\n",
       "      <th>r2_mean</th>\n",
       "      <th>r2_std</th>\n",
       "    </tr>\n",
       "  </thead>\n",
       "  <tbody>\n",
       "    <tr>\n",
       "      <th>1</th>\n",
       "      <td>Random Forest</td>\n",
       "      <td>445848.649171</td>\n",
       "      <td>1.372784e+10</td>\n",
       "      <td>258640.631305</td>\n",
       "      <td>4449.038443</td>\n",
       "      <td>0.419268</td>\n",
       "      <td>0.042996</td>\n",
       "    </tr>\n",
       "    <tr>\n",
       "      <th>0</th>\n",
       "      <td>Linear Regression</td>\n",
       "      <td>449922.900598</td>\n",
       "      <td>1.892660e+10</td>\n",
       "      <td>285788.932068</td>\n",
       "      <td>7333.637365</td>\n",
       "      <td>0.389067</td>\n",
       "      <td>0.021464</td>\n",
       "    </tr>\n",
       "    <tr>\n",
       "      <th>2</th>\n",
       "      <td>Decision Trees</td>\n",
       "      <td>577998.644948</td>\n",
       "      <td>3.341703e+10</td>\n",
       "      <td>317394.098965</td>\n",
       "      <td>5403.721852</td>\n",
       "      <td>0.005187</td>\n",
       "      <td>0.089829</td>\n",
       "    </tr>\n",
       "  </tbody>\n",
       "</table>\n",
       "</div>"
      ],
      "text/plain": [
       "               Model      RMSE_mean      RMSE_std       MAE_mean      MAE_std  \\\n",
       "1      Random Forest  445848.649171  1.372784e+10  258640.631305  4449.038443   \n",
       "0  Linear Regression  449922.900598  1.892660e+10  285788.932068  7333.637365   \n",
       "2     Decision Trees  577998.644948  3.341703e+10  317394.098965  5403.721852   \n",
       "\n",
       "    r2_mean    r2_std  \n",
       "1  0.419268  0.042996  \n",
       "0  0.389067  0.021464  \n",
       "2  0.005187  0.089829  "
      ]
     },
     "execution_count": 34,
     "metadata": {},
     "output_type": "execute_result"
    }
   ],
   "source": [
    "modelDF = pd.DataFrame({\n",
    "    'Model'       : ['Linear Regression', 'Random Forest', 'Decision Trees'],\n",
    "    'RMSE_mean'    : [LR_RMSE_mean, RF_RMSE_mean, DT_RMSE_mean],\n",
    "    'RMSE_std'    : [LR_RMSE_std, RF_RMSE_std, DT_RMSE_std],\n",
    "    'MAE_mean'   : [LR_MAE_mean, RF_MAE_mean, DT_MAE_mean],\n",
    "    'MAE_std'   : [LR_MAE_std, RF_MAE_std, DT_MAE_std],\n",
    "    'r2_mean'      : [LR_r2_mean, RF_r2_mean, DT_r2_mean],\n",
    "    'r2_std'      : [LR_r2_std, RF_r2_std, DT_r2_std],\n",
    "    }, columns = ['Model', 'RMSE_mean', 'RMSE_std', 'MAE_mean', 'MAE_std', 'r2_mean', 'r2_std'])\n",
    "\n",
    "modelDF.sort_values(by='r2_mean', ascending=False)"
   ]
  },
  {
   "cell_type": "code",
   "execution_count": null,
   "metadata": {},
   "outputs": [],
   "source": []
  }
 ],
 "metadata": {
  "kernelspec": {
   "display_name": "Python 3",
   "language": "python",
   "name": "python3"
  },
  "language_info": {
   "codemirror_mode": {
    "name": "ipython",
    "version": 3
   },
   "file_extension": ".py",
   "mimetype": "text/x-python",
   "name": "python",
   "nbconvert_exporter": "python",
   "pygments_lexer": "ipython3",
   "version": "3.6.0"
  }
 },
 "nbformat": 4,
 "nbformat_minor": 2
}
