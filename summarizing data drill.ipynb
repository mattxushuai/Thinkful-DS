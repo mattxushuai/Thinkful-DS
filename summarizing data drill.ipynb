{
 "cells": [
  {
   "cell_type": "code",
   "execution_count": 1,
   "metadata": {},
   "outputs": [],
   "source": [
    "import numpy as np\n",
    "import pandas as pd\n",
    "brady = [14, 12, 11, 10, 8, 6, 8]"
   ]
  },
  {
   "cell_type": "code",
   "execution_count": 8,
   "metadata": {},
   "outputs": [
    {
     "name": "stdout",
     "output_type": "stream",
     "text": [
      "mean:  9.857142857142858\n",
      "median:  10.0\n",
      "variance:  6.408163265306122\n",
      "standard deviation:  2.531435020952764\n",
      "standard error:  1.0334540197243194\n",
      "mode is 8\n"
     ]
    }
   ],
   "source": [
    "def data_summary(brady):\n",
    "    print(\"mean: \",np.mean(brady))\n",
    "    print(\"median: \",np.median(brady))\n",
    "    print(\"variance: \",np.var(brady))\n",
    "    print(\"standard deviation: \",np.std(brady))\n",
    "    print(\"standard error: \",np.std(brady) / np.sqrt(len(brady)-1))\n",
    "    \n",
    "data_summary(brady)\n",
    "print(\"mode is 8\")"
   ]
  },
  {
   "cell_type": "code",
   "execution_count": 3,
   "metadata": {},
   "outputs": [],
   "source": [
    "# I would choose mean as central tendency and std. deviation as variance estimate."
   ]
  },
  {
   "cell_type": "code",
   "execution_count": 9,
   "metadata": {},
   "outputs": [
    {
     "name": "stdout",
     "output_type": "stream",
     "text": [
      "mean:  10.0\n",
      "median:  10.0\n",
      "variance:  5.428571428571429\n",
      "standard deviation:  2.32992949004287\n",
      "standard error:  0.951189731211342\n",
      "mode is 8\n"
     ]
    }
   ],
   "source": [
    "cindy_older = [14, 12, 11, 10, 8, 7, 8]\n",
    "data_summary(cindy_older)\n",
    "print(\"mode is 8\")"
   ]
  },
  {
   "cell_type": "code",
   "execution_count": 10,
   "metadata": {},
   "outputs": [],
   "source": [
    "# mean, variance, std deviation and std error slightly changed, median is untouched."
   ]
  },
  {
   "cell_type": "code",
   "execution_count": 11,
   "metadata": {},
   "outputs": [
    {
     "name": "stdout",
     "output_type": "stream",
     "text": [
      "mean:  9.0\n",
      "median:  10.0\n",
      "variance:  15.428571428571429\n",
      "standard deviation:  3.927922024247863\n",
      "standard error:  1.6035674514745466\n",
      "there is no mode\n"
     ]
    }
   ],
   "source": [
    "oliver_out = [14, 12, 11, 10, 8, 7, 1]\n",
    "data_summary(oliver_out)\n",
    "print(\"there is no mode\")"
   ]
  },
  {
   "cell_type": "code",
   "execution_count": 12,
   "metadata": {},
   "outputs": [],
   "source": [
    "# drastic change of oliver's 9 to jessica's 1 changed mean a lot, I would choose median as central tendency instead of mean."
   ]
  },
  {
   "cell_type": "code",
   "execution_count": null,
   "metadata": {},
   "outputs": [],
   "source": [
    "# The average of three more \"general interest\" magazines is 20%."
   ]
  }
 ],
 "metadata": {
  "kernelspec": {
   "display_name": "Python 3",
   "language": "python",
   "name": "python3"
  },
  "language_info": {
   "codemirror_mode": {
    "name": "ipython",
    "version": 3
   },
   "file_extension": ".py",
   "mimetype": "text/x-python",
   "name": "python",
   "nbconvert_exporter": "python",
   "pygments_lexer": "ipython3",
   "version": "3.7.1"
  }
 },
 "nbformat": 4,
 "nbformat_minor": 2
}
