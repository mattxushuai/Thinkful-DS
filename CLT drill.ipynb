{
 "cells": [
  {
   "cell_type": "code",
   "execution_count": 1,
   "metadata": {},
   "outputs": [],
   "source": [
    "import numpy as np\n",
    "import pandas as pd\n",
    "import scipy\n",
    "import matplotlib.pyplot as plt\n",
    "%matplotlib inline"
   ]
  },
  {
   "cell_type": "code",
   "execution_count": 4,
   "metadata": {},
   "outputs": [
    {
     "name": "stdout",
     "output_type": "stream",
     "text": [
      "2.043\n",
      "5.059\n",
      "1.2606153259420576\n",
      "1.5935868347849766\n",
      "3.016\n"
     ]
    },
    {
     "data": {
      "image/png": "[encoded data removed]",
      "text/plain": [
       "<Figure size 432x288 with 1 Axes>"
      ]
     },
     "metadata": {
      "needs_background": "light"
     },
     "output_type": "display_data"
    }
   ],
   "source": [
    "pop1 = np.random.binomial(10, 0.2, 10000)\n",
    "pop2 = np.random.binomial(10, 0.5, 10000)\n",
    "\n",
    "sample1 = np.random.choice(pop1, 1000, replace=True)\n",
    "sample2 = np.random.choice(pop2, 1000, replace=True)\n",
    "\n",
    "print(sample1.mean())\n",
    "print(sample2.mean())\n",
    "print(sample1.std())\n",
    "print(sample2.std())\n",
    "\n",
    "# to compute the difference between the two sample means\n",
    "diff = sample2.mean() - sample1.mean()\n",
    "print(diff)\n",
    "\n",
    "# to make histogram of each sample\n",
    "plt.hist(sample1, alpha=0.5, label='sample 1')\n",
    "plt.hist(sample2, alpha=0.5, label='sample 2')\n",
    "plt.legend(loc='upper right')\n",
    "plt.show()"
   ]
  },
  {
   "cell_type": "code",
   "execution_count": 5,
   "metadata": {},
   "outputs": [
    {
     "name": "stdout",
     "output_type": "stream",
     "text": [
      "2.0\n",
      "4.45\n",
      "1.378404875209022\n",
      "1.6575584454250776\n",
      "2.45\n"
     ]
    },
    {
     "data": {
      "image/png": "[encoded data removed]",
      "text/plain": [
       "<Figure size 432x288 with 1 Axes>"
      ]
     },
     "metadata": {
      "needs_background": "light"
     },
     "output_type": "display_data"
    }
   ],
   "source": [
    "sample3 = np.random.choice(pop1, 20, replace=True)\n",
    "sample4 = np.random.choice(pop2, 20, replace=True)\n",
    "\n",
    "print(sample3.mean())\n",
    "print(sample4.mean())\n",
    "print(sample3.std())\n",
    "print(sample4.std())\n",
    "\n",
    "# to compute the difference between the two sample means\n",
    "diff = sample4.mean() - sample3.mean()\n",
    "print(diff)\n",
    "\n",
    "# to make histogram of each sample\n",
    "plt.hist(sample3, alpha=0.5, label='sample 1')\n",
    "plt.hist(sample4, alpha=0.5, label='sample 2')\n",
    "plt.legend(loc='upper right')\n",
    "plt.show()"
   ]
  },
  {
   "cell_type": "markdown",
   "metadata": {},
   "source": [
    "compared to sample size of 1000, sample size of 20 shows about the same means for both samples, but slightly larger standard deviation."
   ]
  },
  {
   "cell_type": "code",
   "execution_count": 6,
   "metadata": {},
   "outputs": [
    {
     "name": "stdout",
     "output_type": "stream",
     "text": [
      "Ttest_indResult(statistic=29.22722668717749, pvalue=2.2759316137147017e-156)\n",
      "Ttest_indResult(statistic=14.933983278842735, pvalue=6.87388685290857e-48)\n"
     ]
    }
   ],
   "source": [
    "pop3 = np.random.binomial(10, 0.3, 10000)\n",
    "pop4 = np.random.binomial(10, 0.4, 10000)\n",
    "\n",
    "sample3 = np.random.choice(pop3, 1000, replace=True)\n",
    "sample4 = np.random.choice(pop4, 1000, replace=True)\n",
    "\n",
    "from scipy.stats import ttest_ind\n",
    "print(ttest_ind(sample2, sample3, equal_var=False))\n",
    "print(ttest_ind(sample2, sample4, equal_var=False))"
   ]
  },
  {
   "cell_type": "markdown",
   "metadata": {},
   "source": [
    "The t-value decreases while the p-value increases as the sample mean become more similar."
   ]
  },
  {
   "cell_type": "markdown",
   "metadata": {},
   "source": [
    "based on CLT, the statistics should still work as long as the sample size is large enough\n",
    "no matter what distribution is chosen"
   ]
  },
  {
   "cell_type": "code",
   "execution_count": null,
   "metadata": {},
   "outputs": [],
   "source": []
  }
 ],
 "metadata": {
  "kernelspec": {
   "display_name": "Python 3",
   "language": "python",
   "name": "python3"
  },
  "language_info": {
   "codemirror_mode": {
    "name": "ipython",
    "version": 3
   },
   "file_extension": ".py",
   "mimetype": "text/x-python",
   "name": "python",
   "nbconvert_exporter": "python",
   "pygments_lexer": "ipython3",
   "version": "3.7.1"
  }
 },
 "nbformat": 4,
 "nbformat_minor": 2
}
