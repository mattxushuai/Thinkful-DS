{
  "nbformat": 4,
  "nbformat_minor": 0,
  "metadata": {
    "colab": {
      "name": "keras_NN.ipynb",
      "version": "0.3.2",
      "provenance": []
    },
    "kernelspec": {
      "name": "python3",
      "display_name": "Python 3"
    }
  },
  "cells": [
    {
      "cell_type": "code",
      "metadata": {
        "id": "3U_w0qz1dhuS",
        "colab_type": "code",
        "colab": {
          "base_uri": "https://localhost:8080/",
          "height": 34
        },
        "outputId": "e4af1678-8640-4da7-fdec-0e1be816baef"
      },
      "source": [
        "import matplotlib.pyplot as plt\n",
        "import numpy as np\n",
        "import pydot\n",
        "from scipy import stats\n",
        "\n",
        "# NN \n",
        "import tensorflow as tf\n",
        "import keras\n",
        "\n",
        "# Import various componenets for model building\n",
        "from keras.models import Sequential\n",
        "from keras.layers import Dense, Dropout, Flatten, Conv2D, MaxPooling2D\n",
        "from keras.layers import LSTM, Input, TimeDistributed\n",
        "from keras.models import Model\n",
        "from keras.optimizers import RMSprop\n",
        "\n",
        "# Import the backend\n",
        "from keras import backend as K"
      ],
      "execution_count": 1,
      "outputs": [
        {
          "output_type": "stream",
          "text": [
            "Using TensorFlow backend.\n"
          ],
          "name": "stderr"
        }
      ]
    },
    {
      "cell_type": "code",
      "metadata": {
        "id": "4inib6LReES3",
        "colab_type": "code",
        "colab": {
          "base_uri": "https://localhost:8080/",
          "height": 122
        },
        "outputId": "3d70edb1-a6bc-4b3a-deab-1523bdbf54e8"
      },
      "source": [
        "# Load the Drive helper and mount\n",
        "from google.colab import drive\n",
        "\n",
        "# This will prompt for authorization.\n",
        "drive.mount('/content/drive')"
      ],
      "execution_count": 2,
      "outputs": [
        {
          "output_type": "stream",
          "text": [
            "Go to this URL in a browser: https://accounts.google.com/o/oauth2/auth?client_id=947318989803-6bn6qk8qdgf4n4g3pfee6491hc0brc4i.apps.googleusercontent.com&redirect_uri=urn%3Aietf%3Awg%3Aoauth%3A2.0%3Aoob&scope=email%20https%3A%2F%2Fwww.googleapis.com%2Fauth%2Fdocs.test%20https%3A%2F%2Fwww.googleapis.com%2Fauth%2Fdrive%20https%3A%2F%2Fwww.googleapis.com%2Fauth%2Fdrive.photos.readonly%20https%3A%2F%2Fwww.googleapis.com%2Fauth%2Fpeopleapi.readonly&response_type=code\n",
            "\n",
            "Enter your authorization code:\n",
            "··········\n",
            "Mounted at /content/drive\n"
          ],
          "name": "stdout"
        }
      ]
    },
    {
      "cell_type": "code",
      "metadata": {
        "id": "W2tbBuwoeKMF",
        "colab_type": "code",
        "colab": {
          "base_uri": "https://localhost:8080/",
          "height": 357
        },
        "outputId": "28541f1a-1949-47b1-9a3f-c4068f8c94fd"
      },
      "source": [
        "!pip install kaggle\n",
        "import os\n",
        "os.environ['KAGGLE_USERNAME'] = \"montannacolburn\"\n",
        "os.environ['KAGGLE_KEY'] = \"007de37d44c536ab92fd8332caafe4c5\"\n",
        "!kaggle competitions download -c dogs-vs-cats"
      ],
      "execution_count": 4,
      "outputs": [
        {
          "output_type": "stream",
          "text": [
            "Requirement already satisfied: kaggle in /usr/local/lib/python3.6/dist-packages (1.5.4)\n",
            "Requirement already satisfied: tqdm in /usr/local/lib/python3.6/dist-packages (from kaggle) (4.28.1)\n",
            "Requirement already satisfied: python-slugify in /usr/local/lib/python3.6/dist-packages (from kaggle) (3.0.2)\n",
            "Requirement already satisfied: python-dateutil in /usr/local/lib/python3.6/dist-packages (from kaggle) (2.5.3)\n",
            "Requirement already satisfied: certifi in /usr/local/lib/python3.6/dist-packages (from kaggle) (2019.3.9)\n",
            "Requirement already satisfied: urllib3<1.25,>=1.21.1 in /usr/local/lib/python3.6/dist-packages (from kaggle) (1.24.3)\n",
            "Requirement already satisfied: six>=1.10 in /usr/local/lib/python3.6/dist-packages (from kaggle) (1.12.0)\n",
            "Requirement already satisfied: requests in /usr/local/lib/python3.6/dist-packages (from kaggle) (2.21.0)\n",
            "Requirement already satisfied: text-unidecode==1.2 in /usr/local/lib/python3.6/dist-packages (from python-slugify->kaggle) (1.2)\n",
            "Requirement already satisfied: chardet<3.1.0,>=3.0.2 in /usr/local/lib/python3.6/dist-packages (from requests->kaggle) (3.0.4)\n",
            "Requirement already satisfied: idna<2.9,>=2.5 in /usr/local/lib/python3.6/dist-packages (from requests->kaggle) (2.8)\n",
            "Downloading sampleSubmission.csv to /content\n",
            "  0% 0.00/86.8k [00:00<?, ?B/s]\n",
            "100% 86.8k/86.8k [00:00<00:00, 72.3MB/s]\n",
            "Downloading test1.zip to /content\n",
            " 98% 265M/271M [00:02<00:00, 95.6MB/s]\n",
            "100% 271M/271M [00:02<00:00, 114MB/s] \n",
            "Downloading train.zip to /content\n",
            " 98% 530M/543M [00:03<00:00, 142MB/s]\n",
            "100% 543M/543M [00:03<00:00, 151MB/s]\n"
          ],
          "name": "stdout"
        }
      ]
    },
    {
      "cell_type": "code",
      "metadata": {
        "id": "Pqy1oj2AgXEd",
        "colab_type": "code",
        "colab": {
          "base_uri": "https://localhost:8080/",
          "height": 34
        },
        "outputId": "39c5adb7-0151-4d20-e193-d8c1a52bebdf"
      },
      "source": [
        "cd /content"
      ],
      "execution_count": 5,
      "outputs": [
        {
          "output_type": "stream",
          "text": [
            "/content\n"
          ],
          "name": "stdout"
        }
      ]
    },
    {
      "cell_type": "code",
      "metadata": {
        "id": "NaFyeJefgpsk",
        "colab_type": "code",
        "colab": {
          "base_uri": "https://localhost:8080/",
          "height": 34
        },
        "outputId": "afb3d70d-a857-49a2-a9fd-19a0d5da27b3"
      },
      "source": [
        "ls"
      ],
      "execution_count": 6,
      "outputs": [
        {
          "output_type": "stream",
          "text": [
            "\u001b[0m\u001b[01;34mdrive\u001b[0m/  \u001b[01;34msample_data\u001b[0m/  sampleSubmission.csv  test1.zip  train.zip\n"
          ],
          "name": "stdout"
        }
      ]
    },
    {
      "cell_type": "code",
      "metadata": {
        "id": "yjNtg1dYgre0",
        "colab_type": "code",
        "colab": {
          "base_uri": "https://localhost:8080/",
          "height": 51
        },
        "outputId": "8c203b5a-5723-4d6c-e225-b2f14d5fa697"
      },
      "source": [
        "#unzip into new directory \n",
        "\n",
        "!unzip \\*.zip > /content/unzip_train1"
      ],
      "execution_count": 7,
      "outputs": [
        {
          "output_type": "stream",
          "text": [
            "\n",
            "2 archives were successfully processed.\n"
          ],
          "name": "stdout"
        }
      ]
    },
    {
      "cell_type": "code",
      "metadata": {
        "id": "UXwPEX9NgvwE",
        "colab_type": "code",
        "colab": {
          "base_uri": "https://localhost:8080/",
          "height": 204
        },
        "outputId": "c6ca74fb-60d8-4698-b732-9d23ca35d7f2"
      },
      "source": [
        "import pandas as pd\n",
        "filenames = os.listdir(\"/content/train/\")\n",
        "categories = []\n",
        "for filename in filenames:\n",
        "    category = filename.split('.')[0]\n",
        "    if category == 'dog':\n",
        "        categories.append('d')\n",
        "    else:\n",
        "        categories.append('c')\n",
        "        \n",
        "        \n",
        "df = pd.DataFrame({'filename':filenames,\n",
        "                  'category':categories})\n",
        "\n",
        "df.head()"
      ],
      "execution_count": 8,
      "outputs": [
        {
          "output_type": "execute_result",
          "data": {
            "text/html": [
              "<div>\n",
              "<style scoped>\n",
              "    .dataframe tbody tr th:only-of-type {\n",
              "        vertical-align: middle;\n",
              "    }\n",
              "\n",
              "    .dataframe tbody tr th {\n",
              "        vertical-align: top;\n",
              "    }\n",
              "\n",
              "    .dataframe thead th {\n",
              "        text-align: right;\n",
              "    }\n",
              "</style>\n",
              "<table border=\"1\" class=\"dataframe\">\n",
              "  <thead>\n",
              "    <tr style=\"text-align: right;\">\n",
              "      <th></th>\n",
              "      <th>filename</th>\n",
              "      <th>category</th>\n",
              "    </tr>\n",
              "  </thead>\n",
              "  <tbody>\n",
              "    <tr>\n",
              "      <th>0</th>\n",
              "      <td>cat.9793.jpg</td>\n",
              "      <td>c</td>\n",
              "    </tr>\n",
              "    <tr>\n",
              "      <th>1</th>\n",
              "      <td>dog.2126.jpg</td>\n",
              "      <td>d</td>\n",
              "    </tr>\n",
              "    <tr>\n",
              "      <th>2</th>\n",
              "      <td>cat.1791.jpg</td>\n",
              "      <td>c</td>\n",
              "    </tr>\n",
              "    <tr>\n",
              "      <th>3</th>\n",
              "      <td>dog.5184.jpg</td>\n",
              "      <td>d</td>\n",
              "    </tr>\n",
              "    <tr>\n",
              "      <th>4</th>\n",
              "      <td>cat.1971.jpg</td>\n",
              "      <td>c</td>\n",
              "    </tr>\n",
              "  </tbody>\n",
              "</table>\n",
              "</div>"
            ],
            "text/plain": [
              "       filename category\n",
              "0  cat.9793.jpg        c\n",
              "1  dog.2126.jpg        d\n",
              "2  cat.1791.jpg        c\n",
              "3  dog.5184.jpg        d\n",
              "4  cat.1971.jpg        c"
            ]
          },
          "metadata": {
            "tags": []
          },
          "execution_count": 8
        }
      ]
    },
    {
      "cell_type": "code",
      "metadata": {
        "id": "fgpJ2R8Lg1TV",
        "colab_type": "code",
        "colab": {
          "base_uri": "https://localhost:8080/",
          "height": 204
        },
        "outputId": "735993bb-0673-4c55-a8db-3930db6754e9"
      },
      "source": [
        "filenames = os.listdir(\"/content/test1/\")\n",
        "categories = []\n",
        "for filename in filenames:\n",
        "    category = filename.split('.')[0]\n",
        "    if category == 'dog':\n",
        "        categories.append('d')\n",
        "    else:\n",
        "        categories.append('c')\n",
        "        \n",
        "        \n",
        "df_test = pd.DataFrame({'filename':filenames,\n",
        "                  'category':categories})\n",
        "\n",
        "df_test.head()"
      ],
      "execution_count": 9,
      "outputs": [
        {
          "output_type": "execute_result",
          "data": {
            "text/html": [
              "<div>\n",
              "<style scoped>\n",
              "    .dataframe tbody tr th:only-of-type {\n",
              "        vertical-align: middle;\n",
              "    }\n",
              "\n",
              "    .dataframe tbody tr th {\n",
              "        vertical-align: top;\n",
              "    }\n",
              "\n",
              "    .dataframe thead th {\n",
              "        text-align: right;\n",
              "    }\n",
              "</style>\n",
              "<table border=\"1\" class=\"dataframe\">\n",
              "  <thead>\n",
              "    <tr style=\"text-align: right;\">\n",
              "      <th></th>\n",
              "      <th>filename</th>\n",
              "      <th>category</th>\n",
              "    </tr>\n",
              "  </thead>\n",
              "  <tbody>\n",
              "    <tr>\n",
              "      <th>0</th>\n",
              "      <td>12012.jpg</td>\n",
              "      <td>c</td>\n",
              "    </tr>\n",
              "    <tr>\n",
              "      <th>1</th>\n",
              "      <td>8069.jpg</td>\n",
              "      <td>c</td>\n",
              "    </tr>\n",
              "    <tr>\n",
              "      <th>2</th>\n",
              "      <td>5265.jpg</td>\n",
              "      <td>c</td>\n",
              "    </tr>\n",
              "    <tr>\n",
              "      <th>3</th>\n",
              "      <td>11295.jpg</td>\n",
              "      <td>c</td>\n",
              "    </tr>\n",
              "    <tr>\n",
              "      <th>4</th>\n",
              "      <td>9627.jpg</td>\n",
              "      <td>c</td>\n",
              "    </tr>\n",
              "  </tbody>\n",
              "</table>\n",
              "</div>"
            ],
            "text/plain": [
              "    filename category\n",
              "0  12012.jpg        c\n",
              "1   8069.jpg        c\n",
              "2   5265.jpg        c\n",
              "3  11295.jpg        c\n",
              "4   9627.jpg        c"
            ]
          },
          "metadata": {
            "tags": []
          },
          "execution_count": 9
        }
      ]
    },
    {
      "cell_type": "code",
      "metadata": {
        "id": "bbvxbGyEhF4k",
        "colab_type": "code",
        "colab": {}
      },
      "source": [
        "image_width = 50\n",
        "image_height = 50\n",
        "image_size = (image_width, image_height)\n",
        "image_channel = 3 # RGB color"
      ],
      "execution_count": 0,
      "outputs": []
    },
    {
      "cell_type": "code",
      "metadata": {
        "id": "JaZ0v87JhUIU",
        "colab_type": "code",
        "colab": {
          "base_uri": "https://localhost:8080/",
          "height": 323
        },
        "outputId": "23be5bc6-6592-4928-b186-9f093aa5ba29"
      },
      "source": [
        "#create model\n",
        "model = Sequential()\n",
        "#add model layers\n",
        "model.add(Conv2D(64, kernel_size=3, activation='relu', input_shape=((image_width,image_height,image_channel))))\n",
        "model.add(Conv2D(32, kernel_size=3, activation='relu'))\n",
        "model.add(Flatten())\n",
        "model.add(Dense(units=1,activation='softmax'))\n",
        "model.summary()\n",
        "\n",
        "# Compile the model to put it all together.\n",
        "model.compile(loss='binary_crossentropy',\n",
        "              optimizer=RMSprop(),\n",
        "              metrics=['accuracy'])"
      ],
      "execution_count": 11,
      "outputs": [
        {
          "output_type": "stream",
          "text": [
            "WARNING:tensorflow:From /usr/local/lib/python3.6/dist-packages/tensorflow/python/framework/op_def_library.py:263: colocate_with (from tensorflow.python.framework.ops) is deprecated and will be removed in a future version.\n",
            "Instructions for updating:\n",
            "Colocations handled automatically by placer.\n",
            "_________________________________________________________________\n",
            "Layer (type)                 Output Shape              Param #   \n",
            "=================================================================\n",
            "conv2d_1 (Conv2D)            (None, 48, 48, 64)        1792      \n",
            "_________________________________________________________________\n",
            "conv2d_2 (Conv2D)            (None, 46, 46, 32)        18464     \n",
            "_________________________________________________________________\n",
            "flatten_1 (Flatten)          (None, 67712)             0         \n",
            "_________________________________________________________________\n",
            "dense_1 (Dense)              (None, 1)                 67713     \n",
            "=================================================================\n",
            "Total params: 87,969\n",
            "Trainable params: 87,969\n",
            "Non-trainable params: 0\n",
            "_________________________________________________________________\n"
          ],
          "name": "stdout"
        }
      ]
    },
    {
      "cell_type": "code",
      "metadata": {
        "id": "6tz6S4eahZ9U",
        "colab_type": "code",
        "colab": {}
      },
      "source": [
        "df = df.reset_index(drop=True)\n",
        "df_test=df_test.reset_index(drop=True)"
      ],
      "execution_count": 0,
      "outputs": []
    },
    {
      "cell_type": "code",
      "metadata": {
        "id": "iL9MgNRWheCU",
        "colab_type": "code",
        "colab": {
          "base_uri": "https://localhost:8080/",
          "height": 34
        },
        "outputId": "ab987ae9-2a9d-4b51-a422-183596838407"
      },
      "source": [
        "from keras.preprocessing.image import ImageDataGenerator\n",
        "batch_size=15\n",
        "train_datagen = ImageDataGenerator(\n",
        "    rotation_range=15,\n",
        "    rescale=1./255,\n",
        "    shear_range=0.1,\n",
        "    zoom_range=0.2,\n",
        "    horizontal_flip=True,\n",
        "    width_shift_range=0.1,\n",
        "    height_shift_range=0.1\n",
        ")\n",
        "train_generator = train_datagen.flow_from_dataframe(\n",
        "    df, \"/content/train/\",\n",
        "    x_col='filename',\n",
        "    y_col='category',\n",
        "    target_size=image_size,\n",
        "    class_mode='binary',\n",
        "    batch_size=batch_size\n",
        ")"
      ],
      "execution_count": 13,
      "outputs": [
        {
          "output_type": "stream",
          "text": [
            "Found 25000 validated image filenames belonging to 2 classes.\n"
          ],
          "name": "stdout"
        }
      ]
    },
    {
      "cell_type": "code",
      "metadata": {
        "id": "-29r2rYWhhZU",
        "colab_type": "code",
        "colab": {
          "base_uri": "https://localhost:8080/",
          "height": 269
        },
        "outputId": "7754bed2-a968-4597-ff53-6a1f75c224b8"
      },
      "source": [
        "x , y  = train_generator.next()\n",
        "for i in range(0,1):\n",
        "    random_image = x[i]\n",
        "    plt.imshow(random_image)\n",
        "    plt.show()"
      ],
      "execution_count": 14,
      "outputs": [
        {
          "output_type": "display_data",
          "data": {
            "image/png": "[encoded data removed]",
            "text/plain": [
              "<Figure size 432x288 with 1 Axes>"
            ]
          },
          "metadata": {
            "tags": []
          }
        }
      ]
    },
    {
      "cell_type": "code",
      "metadata": {
        "id": "540KCJRnhruk",
        "colab_type": "code",
        "colab": {
          "base_uri": "https://localhost:8080/",
          "height": 34
        },
        "outputId": "01079543-0d29-4453-b823-8c9447929c2b"
      },
      "source": [
        "test_gen = ImageDataGenerator(rescale=1./255)\n",
        "test_generator = test_gen.flow_from_dataframe(\n",
        "    df_test, \n",
        "    \"/content/test1/\", \n",
        "    x_col='filename',\n",
        "    y_col=None,\n",
        "    class_mode=None,\n",
        "    target_size=image_size,\n",
        "    batch_size=batch_size,\n",
        "    shuffle=False\n",
        ")"
      ],
      "execution_count": 15,
      "outputs": [
        {
          "output_type": "stream",
          "text": [
            "Found 12500 validated image filenames.\n"
          ],
          "name": "stdout"
        }
      ]
    },
    {
      "cell_type": "code",
      "metadata": {
        "id": "gvp8H3xxhwbE",
        "colab_type": "code",
        "colab": {
          "base_uri": "https://localhost:8080/",
          "height": 34
        },
        "outputId": "749d3dcb-b44c-4caf-9cf9-00f8dbd44622"
      },
      "source": [
        "type(batch_size)"
      ],
      "execution_count": 16,
      "outputs": [
        {
          "output_type": "execute_result",
          "data": {
            "text/plain": [
              "int"
            ]
          },
          "metadata": {
            "tags": []
          },
          "execution_count": 16
        }
      ]
    },
    {
      "cell_type": "code",
      "metadata": {
        "id": "PuiWPfRWhyXk",
        "colab_type": "code",
        "colab": {
          "base_uri": "https://localhost:8080/",
          "height": 34
        },
        "outputId": "5a1e23f1-853a-4e81-c86d-abac73cbb268"
      },
      "source": [
        "train_generator.batch_size"
      ],
      "execution_count": 17,
      "outputs": [
        {
          "output_type": "execute_result",
          "data": {
            "text/plain": [
              "15"
            ]
          },
          "metadata": {
            "tags": []
          },
          "execution_count": 17
        }
      ]
    },
    {
      "cell_type": "code",
      "metadata": {
        "id": "Okbhsmr4h0Dk",
        "colab_type": "code",
        "colab": {}
      },
      "source": [
        "STEP_SIZE_TRAIN=train_generator.n//train_generator.batch_size\n",
        "STEP_SIZE_VALID=test_generator.n//test_generator.batch_size"
      ],
      "execution_count": 0,
      "outputs": []
    },
    {
      "cell_type": "code",
      "metadata": {
        "id": "mTh8XRBYh3f0",
        "colab_type": "code",
        "colab": {
          "base_uri": "https://localhost:8080/",
          "height": 34
        },
        "outputId": "fda93ece-f96a-4b9a-cb84-8e0bd6ba887c"
      },
      "source": [
        "STEP_SIZE_TRAIN"
      ],
      "execution_count": 19,
      "outputs": [
        {
          "output_type": "execute_result",
          "data": {
            "text/plain": [
              "1666"
            ]
          },
          "metadata": {
            "tags": []
          },
          "execution_count": 19
        }
      ]
    },
    {
      "cell_type": "code",
      "metadata": {
        "id": "8Jx9q1Brh5A0",
        "colab_type": "code",
        "colab": {}
      },
      "source": [
        "total_train = df.shape[0]\n",
        "total_validate = df_test.shape[0]\n",
        "batch_size=15"
      ],
      "execution_count": 0,
      "outputs": []
    },
    {
      "cell_type": "code",
      "metadata": {
        "id": "ONb-4QJ2h6yU",
        "colab_type": "code",
        "colab": {
          "base_uri": "https://localhost:8080/",
          "height": 5644
        },
        "outputId": "e5e941aa-d437-4d4f-9d05-9440474af049"
      },
      "source": [
        "epochs = 3\n",
        "history = model.fit_generator(\n",
        "    train_generator,\n",
        "    steps_per_epoch=total_train/batch_size,\n",
        "    epochs=epochs,\n",
        "    validation_data=test_generator,\n",
        "    validation_steps=total_validate/batch_size\n",
        ")"
      ],
      "execution_count": 21,
      "outputs": [
        {
          "output_type": "stream",
          "text": [
            "WARNING:tensorflow:From /usr/local/lib/python3.6/dist-packages/tensorflow/python/ops/math_ops.py:3066: to_int32 (from tensorflow.python.ops.math_ops) is deprecated and will be removed in a future version.\n",
            "Instructions for updating:\n",
            "Use tf.cast instead.\n",
            "Epoch 1/3\n",
            "1666/1666 [============================>.] - ETA: 0s - loss: 7.9712 - acc: 0.5000"
          ],
          "name": "stdout"
        },
        {
          "output_type": "error",
          "ename": "ValueError",
          "evalue": "ignored",
          "traceback": [
            "\u001b[0;31m---------------------------------------------------------------------------\u001b[0m",
            "\u001b[0;31mValueError\u001b[0m                                Traceback (most recent call last)",
            "\u001b[0;32m<ipython-input-21-c21f11fbaf59>\u001b[0m in \u001b[0;36m<module>\u001b[0;34m()\u001b[0m\n\u001b[1;32m      5\u001b[0m     \u001b[0mepochs\u001b[0m\u001b[0;34m=\u001b[0m\u001b[0mepochs\u001b[0m\u001b[0;34m,\u001b[0m\u001b[0;34m\u001b[0m\u001b[0;34m\u001b[0m\u001b[0m\n\u001b[1;32m      6\u001b[0m     \u001b[0mvalidation_data\u001b[0m\u001b[0;34m=\u001b[0m\u001b[0mtest_generator\u001b[0m\u001b[0;34m,\u001b[0m\u001b[0;34m\u001b[0m\u001b[0;34m\u001b[0m\u001b[0m\n\u001b[0;32m----> 7\u001b[0;31m     \u001b[0mvalidation_steps\u001b[0m\u001b[0;34m=\u001b[0m\u001b[0mtotal_validate\u001b[0m\u001b[0;34m/\u001b[0m\u001b[0mbatch_size\u001b[0m\u001b[0;34m\u001b[0m\u001b[0;34m\u001b[0m\u001b[0m\n\u001b[0m\u001b[1;32m      8\u001b[0m )\n",
            "\u001b[0;32m/usr/local/lib/python3.6/dist-packages/keras/legacy/interfaces.py\u001b[0m in \u001b[0;36mwrapper\u001b[0;34m(*args, **kwargs)\u001b[0m\n\u001b[1;32m     89\u001b[0m                 warnings.warn('Update your `' + object_name + '` call to the ' +\n\u001b[1;32m     90\u001b[0m                               'Keras 2 API: ' + signature, stacklevel=2)\n\u001b[0;32m---> 91\u001b[0;31m             \u001b[0;32mreturn\u001b[0m \u001b[0mfunc\u001b[0m\u001b[0;34m(\u001b[0m\u001b[0;34m*\u001b[0m\u001b[0margs\u001b[0m\u001b[0;34m,\u001b[0m \u001b[0;34m**\u001b[0m\u001b[0mkwargs\u001b[0m\u001b[0;34m)\u001b[0m\u001b[0;34m\u001b[0m\u001b[0;34m\u001b[0m\u001b[0m\n\u001b[0m\u001b[1;32m     92\u001b[0m         \u001b[0mwrapper\u001b[0m\u001b[0;34m.\u001b[0m\u001b[0m_original_function\u001b[0m \u001b[0;34m=\u001b[0m \u001b[0mfunc\u001b[0m\u001b[0;34m\u001b[0m\u001b[0;34m\u001b[0m\u001b[0m\n\u001b[1;32m     93\u001b[0m         \u001b[0;32mreturn\u001b[0m \u001b[0mwrapper\u001b[0m\u001b[0;34m\u001b[0m\u001b[0;34m\u001b[0m\u001b[0m\n",
            "\u001b[0;32m/usr/local/lib/python3.6/dist-packages/keras/engine/training.py\u001b[0m in \u001b[0;36mfit_generator\u001b[0;34m(self, generator, steps_per_epoch, epochs, verbose, callbacks, validation_data, validation_steps, class_weight, max_queue_size, workers, use_multiprocessing, shuffle, initial_epoch)\u001b[0m\n\u001b[1;32m   1416\u001b[0m             \u001b[0muse_multiprocessing\u001b[0m\u001b[0;34m=\u001b[0m\u001b[0muse_multiprocessing\u001b[0m\u001b[0;34m,\u001b[0m\u001b[0;34m\u001b[0m\u001b[0;34m\u001b[0m\u001b[0m\n\u001b[1;32m   1417\u001b[0m             \u001b[0mshuffle\u001b[0m\u001b[0;34m=\u001b[0m\u001b[0mshuffle\u001b[0m\u001b[0;34m,\u001b[0m\u001b[0;34m\u001b[0m\u001b[0;34m\u001b[0m\u001b[0m\n\u001b[0;32m-> 1418\u001b[0;31m             initial_epoch=initial_epoch)\n\u001b[0m\u001b[1;32m   1419\u001b[0m \u001b[0;34m\u001b[0m\u001b[0m\n\u001b[1;32m   1420\u001b[0m     \u001b[0;34m@\u001b[0m\u001b[0minterfaces\u001b[0m\u001b[0;34m.\u001b[0m\u001b[0mlegacy_generator_methods_support\u001b[0m\u001b[0;34m\u001b[0m\u001b[0;34m\u001b[0m\u001b[0m\n",
            "\u001b[0;32m/usr/local/lib/python3.6/dist-packages/keras/engine/training_generator.py\u001b[0m in \u001b[0;36mfit_generator\u001b[0;34m(model, generator, steps_per_epoch, epochs, verbose, callbacks, validation_data, validation_steps, class_weight, max_queue_size, workers, use_multiprocessing, shuffle, initial_epoch)\u001b[0m\n\u001b[1;32m    232\u001b[0m                             \u001b[0mval_enqueuer_gen\u001b[0m\u001b[0;34m,\u001b[0m\u001b[0;34m\u001b[0m\u001b[0;34m\u001b[0m\u001b[0m\n\u001b[1;32m    233\u001b[0m                             \u001b[0mvalidation_steps\u001b[0m\u001b[0;34m,\u001b[0m\u001b[0;34m\u001b[0m\u001b[0;34m\u001b[0m\u001b[0m\n\u001b[0;32m--> 234\u001b[0;31m                             workers=0)\n\u001b[0m\u001b[1;32m    235\u001b[0m                     \u001b[0;32melse\u001b[0m\u001b[0;34m:\u001b[0m\u001b[0;34m\u001b[0m\u001b[0;34m\u001b[0m\u001b[0m\n\u001b[1;32m    236\u001b[0m                         \u001b[0;31m# No need for try/except because\u001b[0m\u001b[0;34m\u001b[0m\u001b[0;34m\u001b[0m\u001b[0;34m\u001b[0m\u001b[0m\n",
            "\u001b[0;32m/usr/local/lib/python3.6/dist-packages/keras/legacy/interfaces.py\u001b[0m in \u001b[0;36mwrapper\u001b[0;34m(*args, **kwargs)\u001b[0m\n\u001b[1;32m     89\u001b[0m                 warnings.warn('Update your `' + object_name + '` call to the ' +\n\u001b[1;32m     90\u001b[0m                               'Keras 2 API: ' + signature, stacklevel=2)\n\u001b[0;32m---> 91\u001b[0;31m             \u001b[0;32mreturn\u001b[0m \u001b[0mfunc\u001b[0m\u001b[0;34m(\u001b[0m\u001b[0;34m*\u001b[0m\u001b[0margs\u001b[0m\u001b[0;34m,\u001b[0m \u001b[0;34m**\u001b[0m\u001b[0mkwargs\u001b[0m\u001b[0;34m)\u001b[0m\u001b[0;34m\u001b[0m\u001b[0;34m\u001b[0m\u001b[0m\n\u001b[0m\u001b[1;32m     92\u001b[0m         \u001b[0mwrapper\u001b[0m\u001b[0;34m.\u001b[0m\u001b[0m_original_function\u001b[0m \u001b[0;34m=\u001b[0m \u001b[0mfunc\u001b[0m\u001b[0;34m\u001b[0m\u001b[0;34m\u001b[0m\u001b[0m\n\u001b[1;32m     93\u001b[0m         \u001b[0;32mreturn\u001b[0m \u001b[0mwrapper\u001b[0m\u001b[0;34m\u001b[0m\u001b[0;34m\u001b[0m\u001b[0m\n",
            "\u001b[0;32m/usr/local/lib/python3.6/dist-packages/keras/engine/training.py\u001b[0m in \u001b[0;36mevaluate_generator\u001b[0;34m(self, generator, steps, max_queue_size, workers, use_multiprocessing, verbose)\u001b[0m\n\u001b[1;32m   1470\u001b[0m             \u001b[0mworkers\u001b[0m\u001b[0;34m=\u001b[0m\u001b[0mworkers\u001b[0m\u001b[0;34m,\u001b[0m\u001b[0;34m\u001b[0m\u001b[0;34m\u001b[0m\u001b[0m\n\u001b[1;32m   1471\u001b[0m             \u001b[0muse_multiprocessing\u001b[0m\u001b[0;34m=\u001b[0m\u001b[0muse_multiprocessing\u001b[0m\u001b[0;34m,\u001b[0m\u001b[0;34m\u001b[0m\u001b[0;34m\u001b[0m\u001b[0m\n\u001b[0;32m-> 1472\u001b[0;31m             verbose=verbose)\n\u001b[0m\u001b[1;32m   1473\u001b[0m \u001b[0;34m\u001b[0m\u001b[0m\n\u001b[1;32m   1474\u001b[0m     \u001b[0;34m@\u001b[0m\u001b[0minterfaces\u001b[0m\u001b[0;34m.\u001b[0m\u001b[0mlegacy_generator_methods_support\u001b[0m\u001b[0;34m\u001b[0m\u001b[0;34m\u001b[0m\u001b[0m\n",
            "\u001b[0;32m/usr/local/lib/python3.6/dist-packages/keras/engine/training_generator.py\u001b[0m in \u001b[0;36mevaluate_generator\u001b[0;34m(model, generator, steps, max_queue_size, workers, use_multiprocessing, verbose)\u001b[0m\n\u001b[1;32m    343\u001b[0m                                  \u001b[0;34m'(x, y, sample_weight) '\u001b[0m\u001b[0;34m\u001b[0m\u001b[0;34m\u001b[0m\u001b[0m\n\u001b[1;32m    344\u001b[0m                                  \u001b[0;34m'or (x, y). Found: '\u001b[0m \u001b[0;34m+\u001b[0m\u001b[0;34m\u001b[0m\u001b[0;34m\u001b[0m\u001b[0m\n\u001b[0;32m--> 345\u001b[0;31m                                  str(generator_output))\n\u001b[0m\u001b[1;32m    346\u001b[0m             \u001b[0mouts\u001b[0m \u001b[0;34m=\u001b[0m \u001b[0mmodel\u001b[0m\u001b[0;34m.\u001b[0m\u001b[0mtest_on_batch\u001b[0m\u001b[0;34m(\u001b[0m\u001b[0mx\u001b[0m\u001b[0;34m,\u001b[0m \u001b[0my\u001b[0m\u001b[0;34m,\u001b[0m \u001b[0msample_weight\u001b[0m\u001b[0;34m=\u001b[0m\u001b[0msample_weight\u001b[0m\u001b[0;34m)\u001b[0m\u001b[0;34m\u001b[0m\u001b[0;34m\u001b[0m\u001b[0m\n\u001b[1;32m    347\u001b[0m             \u001b[0mouts\u001b[0m \u001b[0;34m=\u001b[0m \u001b[0mto_list\u001b[0m\u001b[0;34m(\u001b[0m\u001b[0mouts\u001b[0m\u001b[0;34m)\u001b[0m\u001b[0;34m\u001b[0m\u001b[0;34m\u001b[0m\u001b[0m\n",
            "\u001b[0;31mValueError\u001b[0m: Output of generator should be a tuple (x, y, sample_weight) or (x, y). Found: [[[[0.24313727 0.3137255  0.2509804 ]\n   [0.18039216 0.227451   0.18823531]\n   [0.22352943 0.29411766 0.2392157 ]\n   ...\n   [0.13725491 0.18823531 0.14901961]\n   [0.27058825 0.42352945 0.24705884]\n   [0.2509804  0.3803922  0.21176472]]\n\n  [[0.23137257 0.30980393 0.20000002]\n   [0.24313727 0.34509805 0.2392157 ]\n   [0.25490198 0.4039216  0.25882354]\n   ...\n   [0.16862746 0.24313727 0.16862746]\n   [0.1254902  0.227451   0.12941177]\n   [0.21960786 0.3137255  0.21176472]]\n\n  [[0.14509805 0.17254902 0.14509805]\n   [0.1254902  0.16470589 0.13333334]\n   [0.15686275 0.18431373 0.15686275]\n   ...\n   [0.17254902 0.2392157  0.1764706 ]\n   [0.23529413 0.38823533 0.21568629]\n   [0.2627451  0.4039216  0.25490198]]\n\n  ...\n\n  [[0.73333335 0.82745105 0.45882356]\n   [0.67058825 0.76470596 0.427451  ]\n   [0.74509805 0.9058824  0.35686275]\n   ...\n   [0.5921569  0.57254905 0.40784317]\n   [0.6784314  0.73333335 0.4901961 ]\n   [0.6117647  0.54509807 0.48235297]]\n\n  [[0.6745098  0.7254902  0.54509807]\n   [0.68235296 0.73333335 0.45882356]\n   [0.73333335 0.91372555 0.42352945]\n   ...\n   [0.24705884 0.24705884 0.10588236]\n   [0.41176474 0.42352945 0.3019608 ]\n   [0.6        0.61960787 0.46274513]]\n\n  [[0.6156863  0.76470596 0.28627452]\n   [0.45098042 0.4901961  0.21176472]\n   [0.7176471  0.8352942  0.5529412 ]\n   ...\n   [0.6666667  0.69411767 0.52156866]\n   [0.47450984 0.4156863  0.33333334]\n   [0.57254905 0.7294118  0.3921569 ]]]\n\n\n [[[0.68235296 0.6627451  0.6392157 ]\n   [0.7137255  0.69411767 0.67058825]\n   [0.65882355 0.6392157  0.6156863 ]\n   ...\n   [0.63529414 0.5254902  0.3803922 ]\n   [0.5019608  0.42352945 0.32941177]\n   [0.6745098  0.59607846 0.5019608 ]]\n\n  [[0.7058824  0.6862745  0.6627451 ]\n   [0.62352943 0.6039216  0.5803922 ]\n   [0.6509804  0.6313726  0.60784316]\n   ...\n   [0.64705884 0.5803922  0.5176471 ]\n   [0.47450984 0.38431376 0.22352943]\n   [0.5764706  0.48627454 0.3254902 ]]\n\n  [[0.7568628  0.7176471  0.70980394]\n   [0.7254902  0.7058824  0.6901961 ]\n   [0.6392157  0.627451   0.60784316]\n   ...\n   [0.7019608  0.68235296 0.67058825]\n   [0.6431373  0.5686275  0.5019608 ]\n   [0.5294118  0.4431373  0.34901962]]\n\n  ...\n\n  [[0.5372549  0.41176474 0.32941177]\n   [0.7568628  0.65882355 0.5803922 ]\n   [0.72156864 0.6509804  0.57254905]\n   ...\n   [0.7294118  0.5882353  0.44705886]\n   [0.5411765  0.4039216  0.25490198]\n   [0.60784316 0.4666667  0.3254902 ]]\n\n  [[0.627451   0.4666667  0.34901962]\n   [0.6392157  0.5058824  0.39607847]\n   [0.654902   0.54901963 0.4431373 ]\n   ...\n   [0.5764706  0.43529415 0.30980393]\n   [0.5882353  0.44705886 0.32156864]\n   [0.54901963 0.3921569  0.25490198]]\n\n  [[0.61960787 0.43921572 0.34509805]\n   [0.6862745  0.4901961  0.40000004]\n   [0.7019608  0.54509807 0.4431373 ]\n   ...\n   [0.6392157  0.4901961  0.40784317]\n   [0.59607846 0.43137258 0.33333334]\n   [0.6156863  0.47058827 0.3647059 ]]]\n\n\n [[[0.8235295  0.83921576 0.8352942 ]\n   [0.7843138  0.8000001  0.7960785 ]\n   [0.7843138  0.8196079  0.8078432 ]\n   ...\n   [0.40784317 0.29803923 0.20392159]\n   [0.40784317 0.3254902  0.21960786]\n   [0.43529415 0.37647063 0.2627451 ]]\n\n  [[0.8196079  0.83921576 0.8235295 ]\n   [0.7607844  0.7803922  0.76470596]\n   [0.7607844  0.77647066 0.7725491 ]\n   ...\n   [0.4039216  0.29411766 0.20000002]\n   [0.427451   0.2901961  0.20392159]\n   [0.41176474 0.3019608  0.20784315]]\n\n  [[0.7294118  0.7490196  0.72156864]\n   [0.69411767 0.7137255  0.6862745 ]\n   [0.7411765  0.7490196  0.74509805]\n   ...\n   [0.43529415 0.3254902  0.23137257]\n   [0.43137258 0.32156864 0.227451  ]\n   [0.36862746 0.28627452 0.18039216]]\n\n  ...\n\n  [[0.427451   0.2627451  0.16862746]\n   [0.42352945 0.24705884 0.16470589]\n   [0.47058827 0.37647063 0.23529413]\n   ...\n   [0.2627451  0.15294118 0.05882353]\n   [0.26666668 0.14117648 0.04313726]\n   [0.22352943 0.14509805 0.04705883]]\n\n  [[0.4901961  0.32156864 0.18823531]\n   [0.49803925 0.36862746 0.15686275]\n   [0.4901961  0.38431376 0.26666668]\n   ...\n   [0.2627451  0.14509805 0.04313726]\n   [0.24705884 0.16078432 0.06666667]\n   [0.2392157  0.14509805 0.03529412]]\n\n  [[0.54509807 0.3921569  0.16078432]\n   [0.57254905 0.45882356 0.3019608 ]\n   [0.28627452 0.16078432 0.0627451 ]\n   ...\n   [0.38431376 0.32156864 0.25882354]\n   [0.34901962 0.30980393 0.27450982]\n   [0.3529412  0.227451   0.1764706 ]]]\n\n\n ...\n\n\n [[[0.6745098  0.75294125 0.7176471 ]\n   [0.4431373  0.52156866 0.48627454]\n   [0.33333334 0.39607847 0.35686275]\n   ...\n   [0.72156864 0.72156864 0.72156864]\n   [0.7137255  0.7137255  0.7137255 ]\n   [0.7058824  0.7058824  0.7058824 ]]\n\n  [[0.77647066 0.854902   0.8196079 ]\n   [0.64705884 0.7254902  0.6901961 ]\n   [0.35686275 0.41960788 0.3803922 ]\n   ...\n   [0.7254902  0.7254902  0.7254902 ]\n   [0.7137255  0.7137255  0.7137255 ]\n   [0.7058824  0.7058824  0.7058824 ]]\n\n  [[0.81568635 0.8941177  0.8588236 ]\n   [0.7137255  0.79215693 0.7568628 ]\n   [0.47450984 0.5372549  0.49803925]\n   ...\n   [0.7254902  0.7254902  0.7254902 ]\n   [0.72156864 0.72156864 0.72156864]\n   [0.70980394 0.70980394 0.70980394]]\n\n  ...\n\n  [[0.427451   0.43529415 0.42352945]\n   [0.09019608 0.10196079 0.05882353]\n   [0.10588236 0.09019608 0.07843138]\n   ...\n   [0.7607844  0.72156864 0.6862745 ]\n   [0.69803923 0.65882355 0.62352943]\n   [0.75294125 0.70980394 0.69411767]]\n\n  [[0.5764706  0.5568628  0.5411765 ]\n   [0.5803922  0.5647059  0.5176471 ]\n   [0.25882354 0.2392157  0.22352943]\n   ...\n   [0.64705884 0.60784316 0.57254905]\n   [0.8235295  0.7803922  0.76470596]\n   [0.8588236  0.8196079  0.7843138 ]]\n\n  [[0.60784316 0.5411765  0.5019608 ]\n   [0.4666667  0.3921569  0.40000004]\n   [0.15294118 0.1254902  0.10196079]\n   ...\n   [0.90196085 0.86274517 0.82745105]\n   [0.52156866 0.47450984 0.47450984]\n   [0.7568628  0.7176471  0.68235296]]]\n\n\n [[[0.03921569 0.04705883 0.02745098]\n   [0.10196079 0.10980393 0.09019608]\n   [0.03921569 0.05882353 0.03529412]\n   ...\n   [0.12941177 0.13725491 0.11764707]\n   [0.12941177 0.16862746 0.13725491]\n   [0.21176472 0.2509804  0.21960786]]\n\n  [[0.04705883 0.05490196 0.03529412]\n   [0.07843138 0.08627451 0.06666667]\n   [0.03529412 0.05490196 0.03137255]\n   ...\n   [0.10980393 0.11764707 0.09803922]\n   [0.12941177 0.16862746 0.13725491]\n   [0.14509805 0.18431373 0.15294118]]\n\n  [[0.04705883 0.05490196 0.03529412]\n   [0.03529412 0.04313726 0.02352941]\n   [0.02352941 0.04313726 0.01960784]\n   ...\n   [0.10980393 0.11764707 0.09803922]\n   [0.14509805 0.18431373 0.15294118]\n   [0.26666668 0.30588236 0.27450982]]\n\n  ...\n\n  [[0.627451   0.5019608  0.41176474]\n   [0.43137258 0.34901962 0.24313727]\n   [0.14509805 0.10980393 0.0509804 ]\n   ...\n   [0.02352941 0.02745098 0.        ]\n   [0.04705883 0.04705883 0.01568628]\n   [0.05490196 0.05490196 0.02352941]]\n\n  [[0.17254902 0.1137255  0.03921569]\n   [0.10980393 0.09411766 0.05882353]\n   [0.1137255  0.09803922 0.0627451 ]\n   ...\n   [0.01960784 0.02745098 0.01568628]\n   [0.01568628 0.02352941 0.01176471]\n   [0.01960784 0.02745098 0.01568628]]\n\n  [[0.10196079 0.09019608 0.0627451 ]\n   [0.09019608 0.09411766 0.07058824]\n   [0.10196079 0.08627451 0.0509804 ]\n   ...\n   [0.01176471 0.01960784 0.00784314]\n   [0.00784314 0.01568628 0.00392157]\n   [0.00784314 0.01568628 0.00392157]]]\n\n\n [[[0.6509804  0.67058825 0.69411767]\n   [0.83921576 0.8588236  0.882353  ]\n   [0.8941177  0.9294118  0.96470594]\n   ...\n   [0.7843138  0.8196079  0.6039216 ]\n   [0.6862745  0.72156864 0.60784316]\n   [0.454902   0.49411768 0.36078432]]\n\n  [[0.8705883  0.92549026 0.9607844 ]\n   [0.79215693 0.8470589  0.882353  ]\n   [0.8980393  0.9333334  0.9686275 ]\n   ...\n   [0.9568628  1.         0.87843144]\n   [0.29411766 0.3372549  0.18039216]\n   [0.6901961  0.7176471  0.64705884]]\n\n  [[0.9490197  0.9843138  1.        ]\n   [0.909804   0.9450981  0.9803922 ]\n   [0.86274517 0.8980393  0.92549026]\n   ...\n   [0.54509807 0.6        0.45882356]\n   [0.7843138  0.8431373  0.6901961 ]\n   [0.72156864 0.8078432  0.6156863 ]]\n\n  ...\n\n  [[0.98823535 1.         1.        ]\n   [0.78823537 0.8000001  0.82745105]\n   [0.91372555 0.9294118  0.96470594]\n   ...\n   [0.6117647  0.6        0.627451  ]\n   [0.91372555 0.9058824  0.9176471 ]\n   [0.8235295  0.81568635 0.82745105]]\n\n  [[0.98823535 1.         1.        ]\n   [0.95294124 0.9686275  0.9803922 ]\n   [0.92549026 0.9607844  0.98823535]\n   ...\n   [0.56078434 0.57254905 0.5921569 ]\n   [0.8588236  0.854902   0.83921576]\n   [0.7843138  0.7803922  0.76470596]]\n\n  [[0.96470594 0.9803922  0.9921569 ]\n   [0.8862746  0.90196085 0.91372555]\n   [0.43921572 0.4784314  0.5137255 ]\n   ...\n   [0.89019614 0.8941177  0.91372555]\n   [0.882353   0.882353   0.89019614]\n   [0.6        0.6        0.60784316]]]]"
          ]
        }
      ]
    },
    {
      "cell_type": "code",
      "metadata": {
        "id": "yiZGsJ4Wh_RG",
        "colab_type": "code",
        "colab": {}
      },
      "source": [
        ""
      ],
      "execution_count": 0,
      "outputs": []
    }
  ]
}